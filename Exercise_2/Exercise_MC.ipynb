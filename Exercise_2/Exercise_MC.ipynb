{
 "cells": [
  {
   "cell_type": "markdown",
   "metadata": {},
   "source": [
    "## MC Simulation of diffusion and cupling of \"sumanene\" molecules\n",
    "<img src=\"sumanene.png\" width=500>"
   ]
  },
  {
   "cell_type": "code",
   "execution_count": 1,
   "metadata": {},
   "outputs": [],
   "source": [
    "import time\n",
    "import matplotlib.pyplot as plt\n",
    "import matplotlib.animation\n",
    "from IPython.display import HTML\n",
    "import numpy as np\n",
    "from ase import Atom,Atoms\n",
    "from scipy.constants import physical_constants\n",
    "from scipy import sparse\n",
    "from ase.neighborlist import get_connectivity_matrix\n",
    "from ase.neighborlist import natural_cutoffs\n",
    "from ase.neighborlist import NeighborList\n",
    "from collections import Counter\n",
    "import copy"
   ]
  },
  {
   "cell_type": "code",
   "execution_count": 2,
   "metadata": {},
   "outputs": [],
   "source": [
    "def get_animation(traj,dx,dy,frames=None):#(xdata,ydata,xlim,ylim,frames=None):\n",
    "    \n",
    "    xdata,ydata,xlim,ylim=traj_coord(traj,dx,dy)\n",
    "    if frames is None:\n",
    "        frames=len(ydata)\n",
    "        \n",
    "    fig, ax = plt.subplots()\n",
    "    ax.set_xlim((xlim))\n",
    "    ax.set_ylim((ylim))\n",
    "    l, = ax.plot([],[],'o')\n",
    "    \n",
    "    def animate(i):\n",
    "        l.set_data(xdata[i],ydata[i])\n",
    "    \n",
    "    animation = matplotlib.animation.FuncAnimation(fig, animate, frames=frames)\n",
    "    plt.close()\n",
    "    \n",
    "    return animation"
   ]
  },
  {
   "cell_type": "code",
   "execution_count": 3,
   "metadata": {},
   "outputs": [],
   "source": [
    "def traj_coord(traj,dx,dy):\n",
    "    X=[]\n",
    "    Y=[]\n",
    "    Xmax=-np.inf\n",
    "    Ymax=-np.inf\n",
    "    for i in range(len(traj)):\n",
    "        x,y=coordinates(traj[i],dx,dy)\n",
    "        xmax=max(x) \n",
    "        Xmax=xmax if xmax>Xmax else Xmax\n",
    "        ymax=max(y) \n",
    "        Ymax=ymax if ymax>Ymax else Ymax\n",
    "        X.append(x.copy())\n",
    "        Y.append(y.copy())\n",
    "    xlim=(-10,Xmax+10)\n",
    "    ylim=(-20,Ymax+20)\n",
    "    return X,Y,xlim,ylim"
   ]
  },
  {
   "cell_type": "code",
   "execution_count": 4,
   "metadata": {},
   "outputs": [],
   "source": [
    "def traj_stat(trajs):\n",
    "    \"\"\" For each batch of MC steps returns the average number of dimers clusters and alone molecules\"\"\"\n",
    "    nalone = []\n",
    "    ndimers = []\n",
    "    nclusters = []\n",
    "    for traj_i in trajs:\n",
    "        nalone_i = 0\n",
    "        ndimers_i = 0\n",
    "        nclusters_i = 0\n",
    "        nconfigs = len(traj_i)\n",
    "        for config in traj_i:\n",
    "            reduced = copy.deepcopy(config)\n",
    "            while len(reduced)>0:\n",
    "                cluster = allconnected(reduced,0,nx,ny) \n",
    "                members = len(cluster)\n",
    "                if   members == 1:\n",
    "                    nalone_i += 1\n",
    "                elif members == 2:\n",
    "                    ndimers_i += 1\n",
    "                else:\n",
    "                    nclusters_i += 1\n",
    "\n",
    "                #### I will not check molecules already found alone, in dimers , in clusters\n",
    "                for c in cluster:\n",
    "                    reduced.remove(c)\n",
    "        nalone.append(nalone_i/nconfigs)\n",
    "        ndimers.append(ndimers_i/nconfigs)\n",
    "        nclusters.append(nclusters_i/nconfigs)\n",
    "    return nalone, ndimers, nclusters"
   ]
  },
  {
   "cell_type": "markdown",
   "metadata": {},
   "source": [
    "## Import monte_carlo.py functions\n",
    "\n",
    "> coordinates <br>\n",
    "neighbors <br>\n",
    "allconnected "
   ]
  },
  {
   "cell_type": "code",
   "execution_count": 5,
   "metadata": {},
   "outputs": [],
   "source": [
    "from monte_carlo import *"
   ]
  },
  {
   "cell_type": "markdown",
   "metadata": {},
   "source": [
    "## Tasks"
   ]
  },
  {
   "cell_type": "markdown",
   "metadata": {},
   "source": [
    "1. Estimate the dimer binding energy as $de=k_BT \\ ln(n_0/n_{exp})$ where $k_B$ is the Boltzmann's constant, T is the simulation (and experiment) temperature, $n_0$ is the concentration of dimers in the case of zero interaction and $n_{exp}$ is the concentration of dimers found in the experiment.\n",
    "\n",
    "\n",
    "2. Repeat the simulation using as $dE$ your estimate. What do you get?\n",
    "\n",
    "\n",
    "3. Repeat the simulation with coverage 0.1 and $de=-0.02$ then $de=-0.1$ Describe what you obtain. Now try $coverage=0.1, T=400, dE=-0.1$ Comment the result"
   ]
  },
  {
   "cell_type": "markdown",
   "metadata": {},
   "source": [
    "## Monte Carlo parameters\n",
    "\n"
   ]
  },
  {
   "cell_type": "code",
   "execution_count": 6,
   "metadata": {},
   "outputs": [],
   "source": [
    "de=-0.0\n",
    "T=200\n",
    "kb=physical_constants['Boltzmann constant in eV/K'][0]\n",
    "beta =1.0/(kb*T)\n",
    "nouter=30\n",
    "ninner=3000"
   ]
  },
  {
   "cell_type": "markdown",
   "metadata": {},
   "source": [
    "## Honeycomb lattice define"
   ]
  },
  {
   "cell_type": "code",
   "execution_count": 7,
   "metadata": {},
   "outputs": [],
   "source": [
    "sr3=np.sqrt(3.0)\n",
    "nx = 50\n",
    "ny = nx/2\n",
    "dx = 10.02\n",
    "dy = dx*sr3\n",
    "lx = nx*dx\n",
    "ly = ny*dy"
   ]
  },
  {
   "cell_type": "markdown",
   "metadata": {},
   "source": [
    "<img src=\"hex_convention.png\" width=500 height=500>\n",
    "\n",
    "The figure illustrates the hexagonal lattice. The blue dot (1) is positioned at site $si=0$ of cell [$xi$,$yi$]=[$4,2$] and the blue dot (5) at site $si=1$ of the same cell."
   ]
  },
  {
   "cell_type": "markdown",
   "metadata": {},
   "source": [
    "## #Molecules"
   ]
  },
  {
   "cell_type": "code",
   "execution_count": 8,
   "metadata": {},
   "outputs": [],
   "source": [
    "coverage=0.02\n",
    "nmolecules=int(nx*nx*coverage)"
   ]
  },
  {
   "cell_type": "markdown",
   "metadata": {},
   "source": [
    "## Run ...\n",
    "\n",
    "This Monte Carlo implemets an **outer** and an **inner** cicle, i.e. for each outer step, an inner loop is runned. <br> Statistics for the system of molecules are sampled for each outer step, by performing statistical averages over the configurations obtained from the inner circle."
   ]
  },
  {
   "cell_type": "code",
   "execution_count": 9,
   "metadata": {},
   "outputs": [
    {
     "name": "stdout",
     "output_type": "stream",
     "text": [
      "Perentage of rejected moves:   1.99\n"
     ]
    }
   ],
   "source": [
    "molecules=[]\n",
    "i=0\n",
    "\n",
    "#### Create initial geometry\n",
    "while i < nmolecules :\n",
    "    xi=np.random.randint(0,nx)\n",
    "    yi=np.random.randint(0,ny)\n",
    "    si=np.random.randint(0,2)\n",
    "    newmolecule=[xi,yi,si]\n",
    "    if  newmolecule  not in molecules:\n",
    "        molecules.append(newmolecule)\n",
    "        i=i+1\n",
    "#### END Create initial geometry\n",
    "\n",
    "#### Initial energy\n",
    "totene=0.0\n",
    "for m in range(nmolecules):\n",
    "    n,l = neighbors(molecules,m,nx,ny)\n",
    "    totene += n*de\n",
    "totene /= 2 #initial energy of the systems. Will be updated at each MC move\n",
    "\n",
    "nacc = 0  # acceptance rate\n",
    "nrej = 0  # rejection rate\n",
    "avgene = np.zeros(nouter) # average energy\n",
    "traj = [] # trajectory of system of molecules per outer step\n",
    "\n",
    "#### outer loop\n",
    "for i in range(nouter):\n",
    "    \n",
    "    maxinner = ninner*100\n",
    "    nsteps = 0\n",
    "    j = 0\n",
    "    traj_i = []\n",
    "    while (j<ninner):\n",
    "        #### SELECT randomly a molecule and a new position\n",
    "        selected = np.random.randint(0,nmolecules) \n",
    "        xn = np.random.randint(0,nx)\n",
    "        yn = np.random.randint(0,ny)\n",
    "        sn = np.random.randint(0,2)\n",
    "        \n",
    "        newmolecule=[xn,yn,sn]\n",
    "        \n",
    "        #### END SELECT randomly a molecule and a new position\n",
    "\n",
    "       #### If new random position is not already occupied\n",
    "        if  newmolecule not in molecules:\n",
    "            oldmolecule = molecules[selected].copy()\n",
    "            n,l = neighbors(molecules,selected,nx,ny)\n",
    "            eold = de*n # Old energy\n",
    "            molecules[selected]=newmolecule.copy()\n",
    "            n,l = neighbors(molecules,selected,nx,ny)\n",
    "            enew = de*n # New energy\n",
    "\n",
    "            #### DECIDE whether to accept or not the move\n",
    "            deltae = enew - eold\n",
    "            if np.random.random() < np.exp(-beta*deltae) :\n",
    "                nacc += 1\n",
    "                totene += deltae\n",
    "                j += 1\n",
    "            else:                         #cancel the move\n",
    "                nrej += 1\n",
    "                molecules[selected]=oldmolecule.copy()\n",
    "                \n",
    "            #if i>0:\n",
    "            avgene[i] += totene # if we did not accept the move totene is teh same as in the previous move\n",
    "            #j += 1\n",
    "        else: # we reject the move because would have corresponded to an \"infinite\" energy (molecules overlap)\n",
    "            nrej += 1\n",
    "            avgene[i] += totene\n",
    "        nsteps += 1\n",
    "        traj_i.append(molecules.copy())\n",
    "        if nsteps == maxinner: \n",
    "            print('coverage too big')\n",
    "            exit()\n",
    "\n",
    "    #### STATISTICS and LOG\n",
    "    avgene[i] /= nsteps\n",
    "    traj.append(traj_i)\n",
    "print(f\"Perentage of rejected moves: {nrej/(nrej+nacc) *100 :6.2f}\")"
   ]
  },
  {
   "cell_type": "markdown",
   "metadata": {},
   "source": [
    "## Count #alone,#dimer,#cluster\n",
    "\n",
    "> #alone = unpaired molecule && not in any cluster <br> #dimer= number of dimers <br> #cluster= number of clusters"
   ]
  },
  {
   "cell_type": "code",
   "execution_count": null,
   "metadata": {},
   "outputs": [],
   "source": [
    "start = time.time()\n",
    "nalone, ndimers, nclusters = traj_stat(traj)\n",
    "print(time.time()-start)"
   ]
  },
  {
   "cell_type": "markdown",
   "metadata": {},
   "source": [
    "## Check convergence\n",
    "\n",
    "1. Visually check that the energy **and** the #dimer converge. \n",
    "2. If **not** converged goto **Monte Carlo parameters**, incerase *nouter* and **Run ..** again the simulation"
   ]
  },
  {
   "cell_type": "code",
   "execution_count": null,
   "metadata": {},
   "outputs": [],
   "source": [
    "plt.figure(figsize=(8,5))\n",
    "#plt.plot(avgene,label='Energy')\n",
    "#plt.plot(nalone,label='#alone')\n",
    "plt.plot(ndimers,label='#dimer')\n",
    "plt.plot(nclusters,label='#cluster')\n",
    "plt.legend()"
   ]
  },
  {
   "cell_type": "code",
   "execution_count": null,
   "metadata": {},
   "outputs": [],
   "source": [
    "dimers_avg=np.average(ndimers)\n",
    "print(f\"Average  number of dimers {2*dimers_avg*2:4.2f} %\")"
   ]
  },
  {
   "cell_type": "markdown",
   "metadata": {},
   "source": [
    "## Create animation\n",
    "\n",
    "Visualize the trajectory."
   ]
  },
  {
   "cell_type": "code",
   "execution_count": null,
   "metadata": {},
   "outputs": [],
   "source": [
    "animation =  get_animation([traj_i[10] for traj_i in traj],dx,dy)\n",
    "\n",
    "HTML(animation.to_jshtml())"
   ]
  },
  {
   "cell_type": "code",
   "execution_count": null,
   "metadata": {},
   "outputs": [],
   "source": [
    "kb*T*np.log((4*dimers_avg/100)/0.3)"
   ]
  },
  {
   "cell_type": "markdown",
   "metadata": {},
   "source": [
    "## Solution\n",
    "\n",
    "Task 1\n",
    "\n",
    "Once you obtained the average number of dimers, in order to compare with the experiment you have to compute the percentage of dimers with respect to the total number of molecules (50 for $coverage=0.02$) that could also be estimated  as $2\\times(\\text{average number of dimers ~ 2.57 })100/50$ To get a rough estimate of the requested quantity it is sufficient to remember that $k_BT$ at $T=200 [K]$ is ~$16.67 [meV]$So:$$coverage=0.02$$$$T=200 [K]$$$$k_BT=16.67 [meV]$$$$n0=10.2\\%$$$$n{exp}=30\\%$$$$de=k_BT*ln(n0/n{exp})=-0.018[eV]$$\n",
    "\n",
    "Task 2\n",
    "\n",
    "You will not get a result very close to the experimental finding. This indicates that the physics underneath teh experimental observation is not governed solely by nearest neighbor interactions. Indeed, in teh published work, to explain the experimental result long range coulombic repulsion as well as short range van der Waals interactions had to be included. (This explanation was of course beyond the aim of the exercise);.$$de=-0.018[eV]$$$$n=20\\%$$\n",
    "\n",
    "Task 3\n",
    "\n",
    "The aim of Task 3 was just to understand that, at a given temperature, increasing the binding energy (more negative values) results in increasing the size of clusters (with a consequent reduction of their number). Also increasing the coverage will result in larger clusters.Conversely, given a value of the coverage and of $de$, if we increase the temperature we increase the probability for a molecule to separate from a cluster thus reducing the average size of clusters and increasing their number."
   ]
  },
  {
   "cell_type": "markdown",
   "metadata": {},
   "source": [
    "### Note\n",
    "\n",
    "If we remove the condition for the detailed balance (fulfilled through the recipe of Metropolis) and substitute it with “if enew < eold” we will of course do something that has nothing to do with ensemble averages, we will miss a link with temperature and the simulation will simply stuck in the attempt to reach a geometry corresponding to a global minimum for the energy. "
   ]
  }
 ],
 "metadata": {
  "kernelspec": {
   "display_name": "Python 3 (ipykernel)",
   "language": "python",
   "name": "python3"
  },
  "language_info": {
   "codemirror_mode": {
    "name": "ipython",
    "version": 3
   },
   "file_extension": ".py",
   "mimetype": "text/x-python",
   "name": "python",
   "nbconvert_exporter": "python",
   "pygments_lexer": "ipython3",
   "version": "3.9.13"
  }
 },
 "nbformat": 4,
 "nbformat_minor": 4
}
