{
 "cells": [
  {
   "cell_type": "markdown",
   "metadata": {},
   "source": [
    "# -- Exercise 1: Determination of lattice constants via equations of state and a general second-degree polynomial fit -- #\n",
    "## 0. Introduction to the course\n",
    "\n",
    "Welcome to Molecular and Materials Modelling in the Spring Semester 2023 at the ETH\n",
    "Zürich. This interdisciplinary course will explore many facets of computational physics and\n",
    "materials science using classical, semi-classical, and quantum-mechanical methodologies.\n",
    "In this course, we will gain:\n",
    "\n",
    "- the ability to select a suitable atomistic approach to model a nanoscale system,\n",
    "and to employ a simulation package to compute quantities, thereby providing a\n",
    "theoretically-sound explanation of the results of a given experiment;\n",
    "\n",
    "- knowledge of empirical force fields and insight into electronic structure theory, with\n",
    "emphasis on density-functional theory\n",
    "\n",
    "- proficiency in experiments performed in silico. We will interpret the experimental in-\n",
    "put, choose the level of theory, model the approximations, perform calculations on a\n",
    "supercomputer, and finally collect and represent the results using Juypter notebooks\n",
    "and Python scripting.\n",
    "\n",
    "### 0.1. Course structure\n",
    "\n",
    "The meeting times and places of this course are as follows:\n",
    "\n",
    "- Semester: Spring Semester 2023\n",
    "- Wednesdays: lecture from 8.15 - 10.00;\n",
    "- Credit points: 4 LP (dt. *Leistungspunkte*)\n",
    "- Meeting place: ETZ E9 in ETH Zentrum\n",
    "- Final grade: The final grade will be the result of a 30 minutes individual oral exam\n",
    "on the course topics (50%) and the cumulative grade about exercises assigned after\n",
    "each exercise appointment (50%). The students will receive a small computational\n",
    "exercise about the topics treated in the class, that could be solved within different\n",
    "programming environments (we provide python based Jupyter notebooks) and if\n",
    "necessary high performance computing resources. A short report and/or answer to\n",
    "a few questions will be delivered at the next lecture appointment. At the end of the\n",
    "oral exam, the solutions will be briefly discussed and a grade will be given which\n",
    "will take into account the commitment and the quality of the solutions/report, as\n",
    "well as the discussion on them at the exam.\n",
    "\n",
    "### Assignments structure\n",
    "\n",
    "Assignments are designed to allow the students to apply the content of the lecture in a\n",
    "hands-on setting. As such, they constitute an integral aspect of the course – a fact reflected\n",
    "in their weighting of 50% of the final grade.\n",
    "\n",
    "Assignments are to be completed within the Jupyter notebook itself, **within the\n",
    "respective fields in which they appear** in the exercise-i-workbook.ipynb file. For\n",
    "answers which are to be written in text (an explanation or elucidation of a phenomenon,\n",
    "for instance), the cell should be in the markdown format. For answers involving bash\n",
    "scripting, the `<code></code>` environment within the markdown format should suffice.\n",
    "Standard Python code can be written directly in the cell. All assignments, which are to\n",
    "be submitted for grading, will appear in a box such as this:"
   ]
  },
  {
   "cell_type": "markdown",
   "metadata": {},
   "source": [
    "#### Assignment 1: Playing with Markdown and Latex"
   ]
  },
  {
   "cell_type": "markdown",
   "metadata": {},
   "source": [
    "In this course, we will be making ample use of both Markdown and Python within a Jupyter Notebook. In order to familiarise ourselves with some of the syntax, here are some introductory tasks to practice different modes of syntax:\n",
    "1. Sometimes we will want to highlight words or phrases by means of bold or italicised text. Write something in bold, something in italicised, and then something in bold and italicised text:\n",
    "    * **bold**, *italicised*, ***bold italicised***\n",
    "2. Formatting and appearance are important. Typeset \"import matplotlib.pyplot as plt\" here in Markdown using the monospaced slab serif typeface, so that it 'looks' more like code.\n",
    "    * `import matplotlib.pyplot as plt`\n",
    "3. Write the time-dependent 3D Schrödinger Equation (so, using the del-operator) in SI-units (so, with all the physical constants) for some arbitrary wavefunction $\\psi(\\vec{x})$ and some arbitrary potential $V(x)$ for $x := |\\vec{x}|$. If you don't know the Schrödinger Equation by heart, just Google it:\n",
    "\n",
    "$$\\left(\\frac{\\hbar^2}{2m}\\nabla^2 + V(x) \\right)\\psi(\\vec{x}) = i \\hbar \\frac{∂\\psi(\\vec{x})}{∂t}$$"
   ]
  },
  {
   "cell_type": "markdown",
   "metadata": {},
   "source": [
    "#### End Assignment 1\n",
    "\n",
    "..., and should furthermore fulfill **all** of the following criteria:\n",
    "\n",
    "- Assignments shall be submitted **on or before 18.00h of the following Sunday**\n",
    "to `ramador@ethz.ch`;\n",
    "- Follow the format: SURNAME-FIRSTNAME_exercise-i-workbook.ipynb, where i of\n",
    "course denotes the exercise / week number;\n",
    "- Assignments should be sensibly worked out, even if the submitted solution is incor-\n",
    "rect. **If, after having attempted the solution, and after Googling around\n",
    "for help, you are still unable to arrive at a working answer, please explain\n",
    "what you tried and what you searched for in your submission**, and, if\n",
    "necessary, what logic you applied and where you got stuck. Standstills are\n",
    "all too common in original research, for which reason you will still get credit for\n",
    "the exercise for a reasonably thorough explanation.\n",
    "\n",
    "If all of this seems a bit overwhelming, don’t worry – we’ll cover everything in this\n",
    "course, and Raymond Amador, Daniele Passerone, and Carlo Pignedoli are of course\n",
    "reachable by email. Solutions will then be posted by the following Monday.\n",
    "\n",
    "### 0.3. The *compendium scriptorum*\n",
    "\n",
    "Over the course of the semester, we will be using several bash scripts to automate certain\n",
    "tasks or extract data. Scripts which are to be added to this compendium scriptorum will\n",
    "be enclosed in the following box:\n",
    "\n",
    "```\n",
    "#!/bin/bash\n",
    "##--SCRIPT TO BE ADDED--##\n",
    "```"
   ]
  },
  {
   "cell_type": "markdown",
   "metadata": {},
   "source": [
    "## 1 The Atomic Simulation Environment"
   ]
  },
  {
   "cell_type": "markdown",
   "metadata": {},
   "source": [
    "### 1.2 The atomization energy of a nitrogen molecule\n",
    "\n",
    "We begin toying around with the Atomic Simulation Environment (ASE) by investigating\n",
    "some basic properties of materials: in the current exercise, we first want to use ASE to\n",
    "calculate the **atomization energy** of a nitrogen molecule. The atomization energy,\n",
    "or more precisely, the **enthalpy of atomization**, is defined as the change in enthalpy\n",
    "$∆_{at}H$ when the bonds of a compound are broken, and the component atoms are thereby\n",
    "separated into individual atoms. We therefore arrive at the following definition: $$∆_{at}H=E_{N_2} - 2E_N, $$\n",
    "where $E_{N_2}$ and $E_N$ represent the energy of the $N_2$ molecule and that of the single N atom, respectively."
   ]
  },
  {
   "cell_type": "markdown",
   "metadata": {},
   "source": [
    "#### Assignment 2: Atomization energy\n",
    "Why must the atomization energy always be positive?\n",
    "<br> A: *Atomization energy is always positive because this is the energy that has to be supplied to break up a bond (which was an energetically favourable state) and separate atoms (into an energetically unfavourable state).*"
   ]
  },
  {
   "cell_type": "markdown",
   "metadata": {},
   "source": [
    "#### End Assignment 2\n",
    "\n",
    "The `!` appearing in `[1]` directs the Jupyter notebook to interact directly with the\n",
    "Terminal, as if the command were being carried out directly in the command line. This\n",
    "cell installs the necessary packages to our Jupyter notebook which will be required for this\n",
    "(and all future) exercise.\n",
    "`\n",
    "We now turn to the second and third cells, which import various libraries from the\n",
    "packages we’ve just installed, and then create an Atoms object out of the object class;\n",
    "execute them."
   ]
  },
  {
   "cell_type": "code",
   "execution_count": 1,
   "metadata": {},
   "outputs": [],
   "source": [
    "#!pip install ase\n",
    "#!pip install nglview"
   ]
  },
  {
   "cell_type": "code",
   "execution_count": 2,
   "metadata": {},
   "outputs": [
    {
     "data": {
      "application/vnd.jupyter.widget-view+json": {
       "model_id": "2e2a5801336d4cddb1cf9f3168a48af9",
       "version_major": 2,
       "version_minor": 0
      },
      "text/plain": []
     },
     "metadata": {},
     "output_type": "display_data"
    }
   ],
   "source": [
    "from ase import Atoms\n",
    "from ase.calculators.emt import EMT\n",
    "import nglview as nv"
   ]
  },
  {
   "cell_type": "markdown",
   "metadata": {},
   "source": [
    "In `[3]`, an Atoms object containing one nitrogen is created and a fast EMT – effective\n",
    "medium theory – calculator is attached to it simply as an argument. In ASE, a calculator\n",
    "is a sort of ”black box” which can take atomic numbers and atomic positions from an Atoms\n",
    "object and calculate the energy, forces, and (sometimes) stresses. In order to calculate\n",
    "forrces and energies, we need to attach a calculator to an Atoms object. The total energy\n",
    "for the isolated atom is then calculated and stored in the e_atom variable.\n",
    "In the following cell we define the atom species as well as the atomic coordinates of\n",
    "the nitrogen molecule,"
   ]
  },
  {
   "cell_type": "code",
   "execution_count": 3,
   "metadata": {},
   "outputs": [],
   "source": [
    "atom = Atoms('N')\n",
    "atom.calc = EMT()\n",
    "e_atom = atom.get_potential_energy()"
   ]
  },
  {
   "cell_type": "markdown",
   "metadata": {},
   "source": [
    "In the following cell we define the atom species as well as the atomic coordinates of\n",
    "the nitrogen molecule,and then calculate the atomization energy according to the equation above:"
   ]
  },
  {
   "cell_type": "code",
   "execution_count": 4,
   "metadata": {},
   "outputs": [],
   "source": [
    "d = 1.1\n",
    "molecule = Atoms('2N', [(0., 0., 0.), (0., 0., d)])\n",
    "molecule.calc = EMT()\n",
    "e_molecule = molecule.get_potential_energy()"
   ]
  },
  {
   "cell_type": "markdown",
   "metadata": {},
   "source": [
    "We can view the structure:"
   ]
  },
  {
   "cell_type": "code",
   "execution_count": 5,
   "metadata": {},
   "outputs": [],
   "source": [
    "def view_structure(structure):\n",
    "    #t1=make_supercell(structure,[[3,0,0],[0,3,0],[0,0,3]])\n",
    "    t = nv.ASEStructure(structure)\n",
    "    w = nv.NGLWidget(t, gui=True)\n",
    "    w.add_unitcell()\n",
    "    #w.add_spacefill()\n",
    "    return w"
   ]
  },
  {
   "cell_type": "code",
   "execution_count": 6,
   "metadata": {},
   "outputs": [
    {
     "data": {
      "application/vnd.jupyter.widget-view+json": {
       "model_id": "5834ab0f2e1c455c93994cfb159d433f",
       "version_major": 2,
       "version_minor": 0
      },
      "text/plain": [
       "NGLWidget()"
      ]
     },
     "metadata": {},
     "output_type": "display_data"
    },
    {
     "data": {
      "application/vnd.jupyter.widget-view+json": {
       "model_id": "e6b36bb4786140d2814a6f8a2739797c",
       "version_major": 2,
       "version_minor": 0
      },
      "text/plain": [
       "Tab(children=(Box(children=(Box(children=(Box(children=(Label(value='step'), IntSlider(value=1, min=-100)), la…"
      ]
     },
     "metadata": {},
     "output_type": "display_data"
    }
   ],
   "source": [
    "view_structure(molecule)"
   ]
  },
  {
   "cell_type": "markdown",
   "metadata": {},
   "source": [
    "and then calculate the atomization energy according to Eq. 1.2:"
   ]
  },
  {
   "cell_type": "code",
   "execution_count": 7,
   "metadata": {},
   "outputs": [],
   "source": [
    "e_atomization = e_molecule - 2 * e_atom"
   ]
  },
  {
   "cell_type": "markdown",
   "metadata": {},
   "source": [
    "Running the last cell in this section generates the output we want:"
   ]
  },
  {
   "cell_type": "code",
   "execution_count": 8,
   "metadata": {},
   "outputs": [
    {
     "name": "stdout",
     "output_type": "stream",
     "text": [
      "Nitrogen atom energy:  5.10 eV\n",
      "Nitrogen molecule energy:  0.44 eV\n",
      "Atomization energy:  9.76 eV\n"
     ]
    }
   ],
   "source": [
    "print('Nitrogen atom energy: %5.2f eV' % e_atom)\n",
    "print('Nitrogen molecule energy: %5.2f eV' % e_molecule)\n",
    "print('Atomization energy: %5.2f eV' % -e_atomization)"
   ]
  },
  {
   "cell_type": "markdown",
   "metadata": {},
   "source": [
    "## 2. Optimizsation using an equation of state: FCC Ag\n",
    "\n",
    "In this and the following section, we now want to determine lattice constants of two bulk\n",
    "systems using polynomial fitting to a thermodynamic equation of state (this section),\n",
    "and a general second-degree polynomial (next section).\n",
    "\n",
    "### 2.1 Theoretical underpinnings\n",
    "\n",
    "An equation of state is a relation between certain extensive and intensive thermody-\n",
    "namic variables Zi of the system: $$f(Z_1,...Z_N) = 0$$\n",
    "\n",
    "where the relation $f$ is generally invertible and solvable in terms of the quantities $Z_i$\n",
    "(at least in theory). The most well known equations of state (encountered for instance in\n",
    "courses in thermodynamics and statistical mechanics) are\n",
    "\n",
    "- the **ideal gas**: $$pV=Nk_BT$$;\n",
    "- the **van der Waals gas**: $$\\left(p+a\\frac{n^2}{V^2}\\right)(V-nb) = nRT$$\n",
    "- the **virial expansion**: $$pV = Nk_BT\\left[1+B_1\\left(\\frac{N}{V}\\right)+B_2\\left(\\frac{N^2}{V^2}\\right) +\\dots\\right],$$\n",
    "\n",
    "where the pressure $p$, volume $V$ , number of atoms $N$, the Boltzmann constant $k_B$,\n",
    "temperature $T$, phenomenological material constants $a$ and $b$, number of moles $n$, the ideal\n",
    "gas constant $R$, and the virial coefficients $B_i$, all exist and are well defined. The **Birch-\n",
    "Murnaghan equation of state** is the fit that we want to investigate in this section, and\n",
    "reads: $$p=\\frac{3B_0}{2}\\left[\\left(\\frac{V_0}{V}\\right)^{\\frac{7}{3}}-\\left(\\frac{V_0}{V}\\right)^{\\frac{5}{3}}\\right] \\left\\{1+\\frac{3}{4}(B'_0-4)\\left[\\left(\\frac{V_0}{V}\\right)^{\\frac{2}{3}}-1\\right] \\right\\},$$\n",
    "\n",
    "where $V_0$ is the reference volume, $V$ the deformation volume, $B_0$ the bulk modulus, and $B'_0$ the derivative of the bulk modulus with respect to pressure $p$.\n",
    "\n",
    "### 2.1. Computational implementation\n",
    "\n",
    "For this section we will need to import the NumPy library as well as the Trajectory\n",
    "module:"
   ]
  },
  {
   "cell_type": "code",
   "execution_count": 9,
   "metadata": {},
   "outputs": [],
   "source": [
    "import numpy as np\n",
    "from ase.io.trajectory import Trajectory\n",
    "from ase.io import read\n",
    "from ase.units import kJ\n",
    "from ase.eos import EquationOfState"
   ]
  },
  {
   "cell_type": "markdown",
   "metadata": {},
   "source": [
    "We first want to calculate the total energy of (bulk) FCC silver for five different lattice\n",
    "constants. Using the ASE modules we define the approximate lattice constants (taken from\n",
    "the literature or wherever else) as well as the species of the unit cell:"
   ]
  },
  {
   "cell_type": "code",
   "execution_count": 10,
   "metadata": {},
   "outputs": [],
   "source": [
    "a = 4.0  # approximate lattice constant\n",
    "b = a / 2\n",
    "ag = Atoms('Ag',\n",
    "           cell=[(0, b, b), (b, 0, b), (b, b, 0)],\n",
    "           pbc=1,\n",
    "           calculator=EMT())  # use EMT potential\n",
    "cell = ag.get_cell()"
   ]
  },
  {
   "cell_type": "markdown",
   "metadata": {},
   "source": [
    "The next cell creates the Trajectory object:"
   ]
  },
  {
   "cell_type": "code",
   "execution_count": 11,
   "metadata": {},
   "outputs": [],
   "source": [
    "traj = Trajectory('Ag.traj', 'w')"
   ]
  },
  {
   "cell_type": "markdown",
   "metadata": {},
   "source": [
    "and the following writes the file for each of the 5 lattice constants:"
   ]
  },
  {
   "cell_type": "code",
   "execution_count": 12,
   "metadata": {},
   "outputs": [],
   "source": [
    "for x in np.linspace(0.95, 1.05, 5):\n",
    "    ag.set_cell(cell * x, scale_atoms=True)\n",
    "    ag.get_potential_energy()\n",
    "    traj.write(ag)"
   ]
  },
  {
   "cell_type": "markdown",
   "metadata": {},
   "source": [
    "We are now in a position to analyse the result using the EquationOfState class. For\n",
    "each of the five configurations we have just generated, we want to use ASE to extract both\n",
    "the volumes and total energies, in order that we might plot these values and determine\n",
    "the volume for which the system attains its energetic minimum. The following cell reads\n",
    "the five configurations,"
   ]
  },
  {
   "cell_type": "code",
   "execution_count": 13,
   "metadata": {},
   "outputs": [],
   "source": [
    "configs = read('Ag.traj@0:5')  # read 5 configurations"
   ]
  },
  {
   "cell_type": "markdown",
   "metadata": {},
   "source": [
    "the next cell extracts the volumes and energies for each configuration,"
   ]
  },
  {
   "cell_type": "code",
   "execution_count": 14,
   "metadata": {},
   "outputs": [],
   "source": [
    "# Extract volumes and energies:\n",
    "volumes = [ag.get_volume() for ag in configs]\n",
    "energies = [ag.get_potential_energy() for ag in configs]\n",
    "eos = EquationOfState(volumes, energies, eos='birchmurnaghan')\n",
    "v0, e0, B = eos.fit()"
   ]
  },
  {
   "cell_type": "markdown",
   "metadata": {},
   "source": [
    "and the last cell in this section generates our energy-volume plot:"
   ]
  },
  {
   "cell_type": "code",
   "execution_count": 15,
   "metadata": {},
   "outputs": [
    {
     "name": "stdout",
     "output_type": "stream",
     "text": [
      "100.03821770846413 GPa\n"
     ]
    },
    {
     "data": {
      "text/plain": [
       "<AxesSubplot:title={'center':'birchmurnaghan: E: -0.000 eV, V: 16.783 Å$^3$, B: 100.038 GPa'}, xlabel='volume [Å$^3$]', ylabel='energy [eV]'>"
      ]
     },
     "execution_count": 15,
     "metadata": {},
     "output_type": "execute_result"
    },
    {
     "data": {
      "image/png": "[encoded data removed]",
      "text/plain": [
       "<Figure size 432x288 with 1 Axes>"
      ]
     },
     "metadata": {
      "needs_background": "light"
     },
     "output_type": "display_data"
    }
   ],
   "source": [
    "print(B / kJ * 1.0e24, 'GPa')\n",
    "eos.plot('Ag-eos.png')"
   ]
  },
  {
   "cell_type": "markdown",
   "metadata": {},
   "source": [
    "## 3. Optimization of two lattice parameters: hcp Ni\n",
    "\n",
    "Having just done the volume optimization on an FCC crystal, we now turn to the hexagonal close packed (hcp) structure, the unit cell (containing 2 atoms) of which can be seen in Fig. \\ref{Fig:unitcells}. In this section we will investigate nickel. Using the \\texttt{EMT} potential we can try to find the $a$ and $c$ lattice constants; first we make an initial guess for $a$ and $c$ using the nearest neighbour distance as well as the ideal $c/a$ ratio.\n",
    "\n",
    "We perform the $9=3\\times 3$ calculations around equilibrium (respectively 3 each for $a$ and $c$) by executing the following two cells:"
   ]
  },
  {
   "cell_type": "code",
   "execution_count": 16,
   "metadata": {},
   "outputs": [],
   "source": [
    "from ase.build import bulk, make_supercell"
   ]
  },
  {
   "cell_type": "code",
   "execution_count": 17,
   "metadata": {},
   "outputs": [],
   "source": [
    "a0 = 3.52 / np.sqrt(2)\n",
    "c0 = np.sqrt(8 / 3.0) * a0\n",
    "n_grid=10\n",
    "\n",
    "traj = Trajectory('Ni.traj', 'w')\n",
    "\n",
    "eps = 0.0005\n",
    "for a in a0 * np.linspace(1 - eps, 1 + eps, n_grid):\n",
    "    for c in c0 * np.linspace(1 - eps, 1 + eps, n_grid):\n",
    "        ni = bulk('Ni', 'hcp', a=a, c=c)\n",
    "        ni.calc = EMT()\n",
    "        ni.get_potential_energy()\n",
    "        #print(\"potential energy at this cycle:\" + str(ni.get_potential_energy()))\n",
    "        traj.write(ni)\n",
    "        #print(\"cell at this cycle:\" + str(ni.cell))"
   ]
  },
  {
   "cell_type": "code",
   "execution_count": 18,
   "metadata": {},
   "outputs": [
    {
     "data": {
      "text/plain": [
       "Cell([[2.4902603777115355, 0.0, 0.0], [-1.2451301888557678, 2.156628749136021, 0.0], [0.0, 0.0, 4.066578168042512]])"
      ]
     },
     "execution_count": 18,
     "metadata": {},
     "output_type": "execute_result"
    }
   ],
   "source": [
    "ni.cell"
   ]
  },
  {
   "cell_type": "markdown",
   "metadata": {},
   "source": [
    "From this we see that we can access `a` from `ni.cell[0,0]` and `c` from `ni.cell[2,2]`.\n",
    "Before proceeding any further, let us visualise the unit cell of hcp Ni. Since hcp Ni\n",
    "only contains 2 atoms per unit cell, however, we want to create a supercell in order to\n",
    "visualise the periodicity`"
   ]
  },
  {
   "cell_type": "code",
   "execution_count": 19,
   "metadata": {},
   "outputs": [
    {
     "data": {
      "application/vnd.jupyter.widget-view+json": {
       "model_id": "8f44b57c5cc24a9390c667d802f87844",
       "version_major": 2,
       "version_minor": 0
      },
      "text/plain": [
       "NGLWidget()"
      ]
     },
     "metadata": {},
     "output_type": "display_data"
    },
    {
     "data": {
      "application/vnd.jupyter.widget-view+json": {
       "model_id": "9d3fdf88fc9a4d3d8dc408e8a9dc7b86",
       "version_major": 2,
       "version_minor": 0
      },
      "text/plain": [
       "Tab(children=(Box(children=(Box(children=(Box(children=(Label(value='step'), IntSlider(value=1, min=-100)), la…"
      ]
     },
     "metadata": {},
     "output_type": "display_data"
    }
   ],
   "source": [
    "view_structure(ni)"
   ]
  },
  {
   "cell_type": "markdown",
   "metadata": {},
   "source": [
    "Play around a bit with the gui and also with the repetition of the supercell in order\n",
    "to get a feel for the periodicity. Using some **list comprehension** in Python, we can execute the following cells to first\n",
    "define the energies array:"
   ]
  },
  {
   "cell_type": "code",
   "execution_count": 20,
   "metadata": {},
   "outputs": [],
   "source": [
    "configs = read('Ni.traj@:')\n",
    "energies = [config.get_potential_energy() for config in configs]"
   ]
  },
  {
   "cell_type": "markdown",
   "metadata": {},
   "source": [
    "and then defining the lattice parameters a resp. c as their own arrays:"
   ]
  },
  {
   "cell_type": "code",
   "execution_count": 21,
   "metadata": {},
   "outputs": [],
   "source": [
    "a = np.array([config.cell[0, 0] for config in configs])\n",
    "c = np.array([config.cell[2, 2] for config in configs])"
   ]
  },
  {
   "cell_type": "markdown",
   "metadata": {},
   "source": [
    "We want to fit the total energy to a general second-degree polynomial, quadratic in the two \"variables\" $a$ and $c$:\n",
    "$$\\alpha_0 + \\alpha_1a + \\alpha_2c + \\alpha_3a^2 + \\alpha_4ac + \\alpha_5c^2$$\n",
    "\n",
    "#### Assignment 3: Lattice constants\n",
    "Use the ```np.linalg.lstsq()``` module to extract the minimum; what are the values for the lattice constants $a$ and $c$? *Hint*: do this by:\n",
    "1. defining an array of coefficients $\\alpha_i$ as defined in Eq. 2 of the Latex file\n",
    "2. using the `np.linalg.lsqsq()` method to obtain a regression. You will need to use the transpose of the array of coefficients (defined in step 1) as well as the `energies` array as two of the arguments; I recommend using `rcond=-1` for the `rcond` parameter; Google around for the documentation if you are unsure;\n",
    "3. extracting $\\alpha_0$, $\\alpha_1$, and $\\alpha_2$ from the regression obtained in step 2;\n",
    "4. using the `np.linalg.solve()` method to find the true lattice constants $a_0$ and $c_0$."
   ]
  },
  {
   "cell_type": "code",
   "execution_count": 22,
   "metadata": {},
   "outputs": [],
   "source": [
    "## SOLUTION\n",
    "functions = np.array([a**0, a, c, a**2, a * c, c**2])\n",
    "\n",
    "A = np.empty((100, 6))\n",
    "A[:, 0] = 1\n",
    "A[:, 1] = a\n",
    "A[:, 2] = c\n",
    "A[:, 3] = np.power(a, 2)\n",
    "A[:, 4] = c*a\n",
    "A[:, 5] = np.power(c, 2)\n",
    "alphas = np.linalg.lstsq(A, energies, rcond=-1)[0]"
   ]
  },
  {
   "cell_type": "markdown",
   "metadata": {},
   "source": [
    "We want to fit the total energy to a general second-degree polynomial, quadratic in the two \"variables\" $a$ and $c$:\n",
    "\n",
    "\\begin{equation}\n",
    "\\alpha_0 + \\alpha_1a + \\alpha_2c + \\alpha_3a^2 + \\alpha_4ac + \\alpha_5c^2\n",
    "\\end{equation}\n",
    "\n",
    "Now we calculate its derivative:\n",
    "$$\n",
    "\\frac{\\partial (1)}{\\partial a} = \\alpha_1 + 2\\alpha_3a + \\alpha_4c\n",
    "$$\n",
    "\n",
    "$$\n",
    "\\frac{\\partial (1)}{\\partial c} = \\alpha_2 + \\alpha_4a + 2\\alpha_5c\n",
    "$$\n",
    "we set the derivative to zero and re-arrange the formulae:\n",
    "$$\\Rightarrow$$\n",
    "\n",
    "$$\n",
    "2\\alpha_3a + \\alpha_4c = -\\alpha_1\n",
    "$$\n",
    "\n",
    "$$\n",
    "\\alpha_4a + 2\\alpha_5c = -\\alpha_2\n",
    "$$"
   ]
  },
  {
   "cell_type": "markdown",
   "metadata": {},
   "source": [
    "Now we solve for $a$ and $c$: "
   ]
  },
  {
   "cell_type": "code",
   "execution_count": 23,
   "metadata": {},
   "outputs": [
    {
     "name": "stdout",
     "output_type": "stream",
     "text": [
      "Lattice constant a0: 2.465, Lattice constant c0: 4.023\n"
     ]
    }
   ],
   "source": [
    "A = np.array([\n",
    "    [2*alphas[3], alphas[4]],\n",
    "    [alphas[4], 2*alphas[5]]\n",
    "])\n",
    "b = np.array([alphas[1], alphas[2]])\n",
    "a0, c0 = np.linalg.solve(A, -b)\n",
    "\n",
    "print(f\"Lattice constant a0: {a0:.3f}, Lattice constant c0: {c0:.3f}\")"
   ]
  },
  {
   "cell_type": "markdown",
   "metadata": {},
   "source": [
    "#### End Assignment 3"
   ]
  },
  {
   "cell_type": "markdown",
   "metadata": {},
   "source": [
    "#### Assigment 4: Expectations from this course"
   ]
  },
  {
   "cell_type": "markdown",
   "metadata": {},
   "source": [
    "Please explain in a few sentences what you hope to learn from this course within the context of your background in classical and quantum mechanics, bash scripting, programming languages, and computational physics."
   ]
  },
  {
   "cell_type": "code",
   "execution_count": 22,
   "metadata": {},
   "outputs": [],
   "source": [
    "##--your code/answer here"
   ]
  },
  {
   "cell_type": "markdown",
   "metadata": {},
   "source": [
    "#### End Assignment 4"
   ]
  }
 ],
 "metadata": {
  "kernelspec": {
   "display_name": "Python 3",
   "language": "python",
   "name": "python3"
  },
  "language_info": {
   "codemirror_mode": {
    "name": "ipython",
    "version": 3
   },
   "file_extension": ".py",
   "mimetype": "text/x-python",
   "name": "python",
   "nbconvert_exporter": "python",
   "pygments_lexer": "ipython3",
   "version": "3.8.5"
  },
  "vscode": {
   "interpreter": {
    "hash": "783d7c8e9042dd68e9add47c0b718632a846e28849c908d45a1167fba6f8c7d5"
   }
  }
 },
 "nbformat": 4,
 "nbformat_minor": 5
}
