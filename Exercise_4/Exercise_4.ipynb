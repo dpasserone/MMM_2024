{
 "cells": [
  {
   "cell_type": "markdown",
   "id": "8a2a98af",
   "metadata": {},
   "source": [
    "#### -- Exercise 4: Disordering of graphene, and investigating two thermostats-- #\n",
    "## 0. The thermostats\n",
    "\n",
    "During this exercise we will test two different thermostats:\n",
    "\n",
    "- Langevin ensemble\n",
    "\n",
    "- CSVR, a flavour of velocity rescaling with interesting properties\n",
    "\n",
    "\n",
    "\n",
    "Then we will use one of those thermostats to \"**disorder our graphene**\". \n",
    "\n",
    "All simulations will be performed with CP2K.\n",
    "Some very fundamental concept in the structure of the input file are available here:\n",
    "\n",
    "https://manual.cp2k.org/cp2k-2022_1-branch/index.html\n",
    "\n",
    "\n",
    "\n",
    "\n"
   ]
  },
  {
   "cell_type": "markdown",
   "id": "4b10af93",
   "metadata": {},
   "source": [
    "### Visualization functions"
   ]
  },
  {
   "cell_type": "code",
   "execution_count": 1,
   "id": "d3b8d7f2",
   "metadata": {},
   "outputs": [],
   "source": [
    "def view_structure(structure,myvec=[]):\n",
    "    t = nv.ASEStructure(structure)\n",
    "    w = nv.NGLWidget(t, gui=True)\n",
    "    w.add_unitcell()\n",
    "    w.add_ball_and_stick()\n",
    "    w.add_representation('label',label_type='atomindex',color='black')\n",
    "    w.add_representation('spacefill',selection=myvec,color=\"blue\",radius=0.5)\n",
    "    return w\n",
    "\n",
    "def view_trajectory(trajectory,myvec=[]):\n",
    "    t2 = nv.ASETrajectory(trajectory)\n",
    "    w2 = nv.NGLWidget(t2, gui=True)\n",
    "    #w2.add_unitcell()\n",
    "    w2.add_ball_and_stick()\n",
    "    w2.add_representation('spacefill',selection=myvec,color=\"blue\",radius=0.5)\n",
    "    return w2"
   ]
  },
  {
   "cell_type": "markdown",
   "id": "0416beb6",
   "metadata": {},
   "source": [
    "### Building the system\n",
    "\n",
    "As last time, we build a graphene sheet. We then rattle a little bit the atoms, and write the coordinates on an ext_xyz file. This has the cell in the second line, which will be nice for our input file.  "
   ]
  },
  {
   "cell_type": "code",
   "execution_count": 2,
   "id": "b1a3110f",
   "metadata": {},
   "outputs": [
    {
     "data": {
      "application/vnd.jupyter.widget-view+json": {
       "model_id": "e02db1a2b55046e3b0180b57054f4e4f",
       "version_major": 2,
       "version_minor": 0
      },
      "text/plain": []
     },
     "metadata": {},
     "output_type": "display_data"
    },
    {
     "name": "stdout",
     "output_type": "stream",
     "text": [
      "450  Carbon atoms\n"
     ]
    }
   ],
   "source": [
    "import numpy as np\n",
    "from ase import Atoms\n",
    "from ase.io import read\n",
    "from ase.calculators.lammpsrun import LAMMPS\n",
    "from ase.calculators.cp2k import CP2K\n",
    "from ase.optimize import BFGS\n",
    "from ase.build import graphene\n",
    "from ase.visualize import view\n",
    "import matplotlib.pyplot as plt\n",
    "import nglview as nv\n",
    "\n",
    "# Graphene lattice\n",
    "\n",
    "\n",
    "graph = graphene(formula='C2',a=2.46,vacuum=1.0,size=(15,15,1))\n",
    "print (len(graph),\" Carbon atoms\")\n",
    "\n"
   ]
  },
  {
   "cell_type": "code",
   "execution_count": 3,
   "id": "af151e9b",
   "metadata": {},
   "outputs": [
    {
     "data": {
      "application/vnd.jupyter.widget-view+json": {
       "model_id": "5899edf8c8254977a5eb21ec8cd01553",
       "version_major": 2,
       "version_minor": 0
      },
      "text/plain": [
       "NGLWidget()"
      ]
     },
     "metadata": {},
     "output_type": "display_data"
    },
    {
     "data": {
      "application/vnd.jupyter.widget-view+json": {
       "model_id": "2edde4f2530d4817ac3338147037b936",
       "version_major": 2,
       "version_minor": 0
      },
      "text/plain": [
       "Tab(children=(Box(children=(Box(children=(Box(children=(Label(value='step'), IntSlider(value=1, min=-100)), la…"
      ]
     },
     "metadata": {},
     "output_type": "display_data"
    }
   ],
   "source": [
    "graph.set_pbc([False,True,False])\n",
    "\n",
    "\n",
    "view_structure(graph)\n"
   ]
  },
  {
   "cell_type": "code",
   "execution_count": 4,
   "id": "474e22e6",
   "metadata": {},
   "outputs": [],
   "source": [
    "graph.write(\"graphene.xyz\",format=\"extxyz\")"
   ]
  },
  {
   "cell_type": "markdown",
   "id": "48fea268",
   "metadata": {},
   "source": [
    "## First part, running CSVR with different values of the time constant"
   ]
  },
  {
   "cell_type": "markdown",
   "id": "0b9146f2",
   "metadata": {},
   "source": [
    "Create a directory ```CSVR``` and copy there all the input files:\n",
    "\n",
    "```cp *inp CSVR```\n",
    "\n",
    "Then, edit them in the terminal to include the appropriate thermostat section: either ```langevin.inc``` or ```csvr.inc```\n",
    "\n",
    "Run the following input files: \n",
    "\n",
    "```start.inp``` (without restart)\n",
    "```nvt.inp``` (restarting)\n",
    "```nve.inp```  (restarting)\n",
    "\n",
    "At the end of each simulation, you can view the trajectory and harvest the data. \n",
    "The typical sequence is:"
   ]
  },
  {
   "cell_type": "code",
   "execution_count": null,
   "id": "58498807",
   "metadata": {},
   "outputs": [],
   "source": [
    "!cd CSVR ; cp2k.psmp -in start.inp  > start.out"
   ]
  },
  {
   "cell_type": "code",
   "execution_count": null,
   "id": "6f6a22ed",
   "metadata": {},
   "outputs": [],
   "source": [
    "traj_start = read(\"CSVR/MD-pos-1.xyz\",index=':')"
   ]
  },
  {
   "cell_type": "code",
   "execution_count": null,
   "id": "a3f53b2f",
   "metadata": {},
   "outputs": [],
   "source": [
    "view_trajectory (traj_start)"
   ]
  },
  {
   "cell_type": "code",
   "execution_count": null,
   "id": "97162130",
   "metadata": {},
   "outputs": [],
   "source": [
    "data_therm  = np.loadtxt('CSVR/MD-1.ener')\n",
    "data_therm  = np.transpose(data_therm)\n",
    "plt.plot(data_therm[0],data_therm[3], label='Start')\n",
    "plt.legend( loc='upper right')\n",
    "plt.xlabel(' time step')\n",
    "plt.ylabel('T [K]')"
   ]
  },
  {
   "cell_type": "code",
   "execution_count": null,
   "id": "e5b0e46d",
   "metadata": {},
   "outputs": [],
   "source": [
    "plt.plot(data_therm[0],data_therm[4], label='Start')\n",
    "plt.legend( loc='upper right')\n",
    "plt.xlabel(' time step')\n",
    "plt.ylabel('Pot. Energy (Hartree)')"
   ]
  },
  {
   "cell_type": "markdown",
   "id": "00c68d9f",
   "metadata": {},
   "source": [
    "## Disordering of graphene\n",
    "\n",
    "In this we will run successive simulations at increasing temperatures, using the command ```sed``` that replaces in a file the occurrence of a string with a number. Then cp2k is run to simulate graphene at that temperature."
   ]
  },
  {
   "cell_type": "code",
   "execution_count": null,
   "id": "676fba70",
   "metadata": {},
   "outputs": [
    {
     "name": "stdout",
     "output_type": "stream",
     "text": [
      "Running at T =  300\n",
      "Running at T =  800\n",
      "^C\n",
      "Running at T =  1300\n"
     ]
    }
   ],
   "source": [
    "# \n",
    "# Set up a chain of input files\n",
    "#\n",
    "for mytemp in range (300,3000,500):\n",
    "    !sed \"s/_TEMP_/{mytemp}/g\" < CSVR/nvt_ramp.inp > CSVR/nvt_{mytemp}.inp\n",
    "    print (\"Running at T = \",mytemp)\n",
    "    !cd CSVR ; cp2k.psmp -in nvt_{mytemp}.inp   > nvt_{mytemp}.out\n"
   ]
  },
  {
   "cell_type": "markdown",
   "id": "eeb62b89",
   "metadata": {},
   "source": [
    "## Assignment 1 \n",
    "Run simulations at different values of the CSVR time constant. Which differences do you see? Compute the variance of the temperature along the trajectory for different values of the time constant. \n",
    "\n",
    "## Assignment 2\n",
    "Extract the potential energy average on the production runs at 300 K\n",
    "\n",
    "## Assignment 3\n",
    "Discuss the trajectory along the ramp. Store the potential energy at the various temperatures of the ramp and make a plot. (Not mandatory) Repeat the exercise after removing some atoms from the system. Note: you will have to write the ```graphene.xyz``` again. \n",
    "\n",
    "## Assignment 4-5-6\n",
    "Repeat the same exercise for Langevin, creating a separate trajectory ```Langevin``` and tuning the GAMMA value in the input\n",
    "\n",
    "## Assignment 7 \n",
    "Do the same exercise (only assignment 1-2) for a system with size 5x5 and report all the differences you see. "
   ]
  },
  {
   "cell_type": "code",
   "execution_count": null,
   "id": "4595879c",
   "metadata": {},
   "outputs": [],
   "source": []
  }
 ],
 "metadata": {
  "kernelspec": {
   "display_name": "Python 3 (ipykernel)",
   "language": "python",
   "name": "python3"
  },
  "language_info": {
   "codemirror_mode": {
    "name": "ipython",
    "version": 3
   },
   "file_extension": ".py",
   "mimetype": "text/x-python",
   "name": "python",
   "nbconvert_exporter": "python",
   "pygments_lexer": "ipython3",
   "version": "3.9.13"
  },
  "vscode": {
   "interpreter": {
    "hash": "783d7c8e9042dd68e9add47c0b718632a846e28849c908d45a1167fba6f8c7d5"
   }
  }
 },
 "nbformat": 4,
 "nbformat_minor": 5
}
