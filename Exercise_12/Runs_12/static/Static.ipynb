{
 "cells": [
  {
   "cell_type": "markdown",
   "metadata": {},
   "source": [
    "## Auxiliary NB for the STATIC method for the vibrational spectrum. Exercise 12"
   ]
  },
  {
   "cell_type": "code",
   "execution_count": 2,
   "metadata": {},
   "outputs": [
    {
     "data": {
      "application/vnd.jupyter.widget-view+json": {
       "model_id": "a96a048d9b364795b7e521b81e31f12e",
       "version_major": 2,
       "version_minor": 0
      },
      "text/plain": []
     },
     "metadata": {},
     "output_type": "display_data"
    }
   ],
   "source": [
    "import numpy as np\n",
    "from math import pi, sqrt\n",
    "import matplotlib.pyplot as plt\n",
    "from scipy.ndimage import gaussian_filter1d\n",
    "\n",
    "from ase import Atoms\n",
    "from ase.io import read,write\n",
    "from ase.visualize import view\n",
    "import nglview"
   ]
  },
  {
   "cell_type": "code",
   "execution_count": 17,
   "metadata": {},
   "outputs": [
    {
     "name": "stdout",
     "output_type": "stream",
     "text": [
      "C6H6-VIBRATIONS-1.ref.mol                     100%   18KB 310.9KB/s   00:00    \n",
      "MET-VIBRATIONS-1.ref.mol                      100% 4207   167.7KB/s   00:00    \n"
     ]
    }
   ],
   "source": [
    "#\n",
    "# Copying the mol files from daint\n",
    "#\n",
    "\n",
    "username  = \"course24\"\n",
    "\n",
    "!scp daint.cscs.ch:/scratch/snx3000/{username}/Runs_12/static/*mol ."
   ]
  },
  {
   "cell_type": "code",
   "execution_count": 15,
   "metadata": {},
   "outputs": [],
   "source": []
  },
  {
   "cell_type": "code",
   "execution_count": null,
   "metadata": {},
   "outputs": [],
   "source": []
  },
  {
   "cell_type": "markdown",
   "metadata": {},
   "source": [
    "## Functions"
   ]
  },
  {
   "cell_type": "markdown",
   "metadata": {},
   "source": [
    "Function to read moldenfiles"
   ]
  },
  {
   "cell_type": "code",
   "execution_count": 3,
   "metadata": {},
   "outputs": [],
   "source": [
    "def read_molden(file):\n",
    "    \n",
    "    with open(file) as f:\n",
    "        data = f.readlines()\n",
    "\n",
    "    freq = []\n",
    "    info_atoms = [] # element, x, y, z\n",
    "    vibr_displacements = [] # [vibration_nr][coord]\n",
    "\n",
    "    inten = []\n",
    "\n",
    "\n",
    "    section = ''\n",
    "    b2A=0.52917721067  #transform bohr to angstrom\n",
    "    \n",
    "    # Parse the datafile checking all possible case\n",
    "    for line in data:\n",
    "        line = line.strip()\n",
    "\n",
    "        # check if a new section starts\n",
    "        if line[0] == '[':\n",
    "            section = line.strip('[]').lower()\n",
    "            continue\n",
    "\n",
    "        if section == 'freq':\n",
    "            freq.append(float(line))\n",
    "\n",
    "        if section == 'fr-coord':\n",
    "            el, x, y, z = line.split()\n",
    "            info_atoms.append([el, float(x)*b2A, float(y)*b2A, float(z)*b2A])\n",
    "\n",
    "        if section == 'fr-norm-coord':\n",
    "            if line.startswith('vibration'):\n",
    "                vibr_displacements.append([])\n",
    "                continue\n",
    "            coords = [float(x) for x in line.split()]\n",
    "            vibr_displacements[-1].append(coords)\n",
    "\n",
    "        if section == 'int':\n",
    "            inten.append(float(line))\n",
    "\n",
    "    vibr_displacements = np.asanyarray(vibr_displacements)\n",
    "    info_atoms = np.asanyarray(info_atoms)\n",
    "    atoms = Atoms(info_atoms[:,0], info_atoms[:,1:4])\n",
    "\n",
    "    return atoms, freq, vibr_displacements, inten"
   ]
  },
  {
   "cell_type": "markdown",
   "metadata": {},
   "source": [
    "Function to create trajectories showing the modes"
   ]
  },
  {
   "cell_type": "code",
   "execution_count": 4,
   "metadata": {},
   "outputs": [],
   "source": [
    "def get_trajectory(mode, mol, disp, enhance_disp):\n",
    "    \n",
    "    time_arr = np.linspace(0.0, 2*np.pi, 20)\n",
    "\n",
    "    trajectory = []\n",
    "    for time in time_arr:\n",
    "        vibr_atoms = Atoms(mol.get_chemical_symbols(), mol.positions+enhance_disp*np.sin(time)*disp[mode])\n",
    "        trajectory.append(vibr_atoms)\n",
    "    return trajectory"
   ]
  },
  {
   "cell_type": "markdown",
   "metadata": {},
   "source": [
    "## Program "
   ]
  },
  {
   "cell_type": "markdown",
   "metadata": {},
   "source": [
    "Read molden file"
   ]
  },
  {
   "cell_type": "code",
   "execution_count": 18,
   "metadata": {},
   "outputs": [],
   "source": [
    "file = \"C6H6-VIBRATIONS-1.ref.mol\"\n",
    "molecule, frequency, displacements, intensity = read_molden(file)"
   ]
  },
  {
   "cell_type": "markdown",
   "metadata": {},
   "source": [
    "View atoms at equilibrium"
   ]
  },
  {
   "cell_type": "code",
   "execution_count": 19,
   "metadata": {},
   "outputs": [
    {
     "data": {
      "application/vnd.jupyter.widget-view+json": {
       "model_id": "b7a47df37f4643fd86cae733040ce2dd",
       "version_major": 2,
       "version_minor": 0
      },
      "text/plain": [
       "NGLWidget()"
      ]
     },
     "metadata": {},
     "output_type": "display_data"
    }
   ],
   "source": [
    "nglview.show_ase(molecule)\n",
    "#view(molecule)"
   ]
  },
  {
   "cell_type": "markdown",
   "metadata": {},
   "source": [
    "Plot only spectrum"
   ]
  },
  {
   "cell_type": "code",
   "execution_count": 20,
   "metadata": {},
   "outputs": [
    {
     "data": {
      "text/plain": [
       "Text(0.5, 0, 'Frequency [cm$^{-1}$]')"
      ]
     },
     "execution_count": 20,
     "metadata": {},
     "output_type": "execute_result"
    },
    {
     "data": {
      "image/png": "[encoded data removed]",
      "text/plain": [
       "<Figure size 640x480 with 1 Axes>"
      ]
     },
     "metadata": {},
     "output_type": "display_data"
    }
   ],
   "source": [
    "fig, ax = plt.subplots()\n",
    "ax.plot(frequency,intensity, lw=2,color='steelblue')\n",
    "ax.fill(frequency,intensity, color='aliceblue')\n",
    "ax.set_xlabel(\"Frequency [cm$^{-1}$]\")"
   ]
  },
  {
   "cell_type": "markdown",
   "metadata": {},
   "source": [
    "Plot spectrum and all the identified frequencies"
   ]
  },
  {
   "cell_type": "code",
   "execution_count": 21,
   "metadata": {},
   "outputs": [
    {
     "data": {
      "text/plain": [
       "Text(0.5, 1.0, 'Spectrum')"
      ]
     },
     "execution_count": 21,
     "metadata": {},
     "output_type": "execute_result"
    },
    {
     "data": {
      "image/png": "[encoded data removed]",
      "text/plain": [
       "<Figure size 1000x500 with 1 Axes>"
      ]
     },
     "metadata": {},
     "output_type": "display_data"
    }
   ],
   "source": [
    "fig, ax = plt.subplots(figsize=(10,5))\n",
    "ax.plot(frequency,intensity, lw=3,color='steelblue')\n",
    "ax.fill(frequency,intensity, color='aliceblue')\n",
    "ax.vlines(frequency,np.zeros(len(frequency)),max(intensity)*np.ones(len(frequency)),color='lightslategray', lw=0.5)\n",
    "ax.hlines(0,*plt.xlim(),color='lightslategray')\n",
    "ax.set_xlabel('Frequency [cm$^{-1}$]')\n",
    "ax.set_title('Spectrum')"
   ]
  },
  {
   "cell_type": "code",
   "execution_count": 23,
   "metadata": {},
   "outputs": [
    {
     "name": "stdout",
     "output_type": "stream",
     "text": [
      "1 400.302903 6e-06\n",
      "2 401.555638 5e-06\n",
      "3 596.097032 1e-06\n",
      "4 602.918089 0.0\n",
      "5 661.189688 0.007824\n",
      "6 706.249913 1e-06\n",
      "7 833.568431 0.0\n",
      "8 833.756231 0.0\n",
      "9 949.504594 1.1e-05\n",
      "10 949.976122 1.4e-05\n",
      "11 976.963838 0.0\n",
      "12 985.82371 1e-06\n",
      "13 993.020931 9.8e-05\n",
      "14 1029.977506 0.001874\n",
      "15 1035.062465 0.001893\n",
      "16 1143.899937 1.3e-05\n",
      "17 1163.64503 0.0\n",
      "18 1165.969536 1e-06\n",
      "19 1338.887202 1e-06\n",
      "20 1347.664359 1.6e-05\n",
      "21 1466.711983 0.001908\n",
      "22 1471.797438 0.00187\n",
      "23 1593.030396 1e-06\n",
      "24 1594.117474 1e-06\n",
      "25 3087.283723 7.7e-05\n",
      "26 3096.781439 8e-06\n",
      "27 3097.757885 5e-06\n",
      "28 3111.829664 0.003739\n",
      "29 3112.819108 0.003726\n",
      "30 3121.735327 2e-06\n"
     ]
    }
   ],
   "source": [
    "j=0\n",
    "for f, i  in zip(frequency,intensity):\n",
    "    j=j+1\n",
    "    print(j, f, i)"
   ]
  },
  {
   "cell_type": "markdown",
   "metadata": {},
   "source": [
    "## Visualize vibrational mode"
   ]
  },
  {
   "cell_type": "code",
   "execution_count": 24,
   "metadata": {
    "scrolled": true
   },
   "outputs": [
    {
     "data": {
      "application/vnd.jupyter.widget-view+json": {
       "model_id": "3bba62fdde0047b19005c08d1815a7c7",
       "version_major": 2,
       "version_minor": 0
      },
      "text/plain": [
       "NGLWidget(max_frame=19)"
      ]
     },
     "metadata": {},
     "output_type": "display_data"
    },
    {
     "data": {
      "application/vnd.jupyter.widget-view+json": {
       "model_id": "cb5b805542fb4b98bd480bae86613288",
       "version_major": 2,
       "version_minor": 0
      },
      "text/plain": [
       "Tab(children=(Box(children=(Box(children=(Box(children=(Label(value='step'), IntSlider(value=1, min=-100)), la…"
      ]
     },
     "metadata": {},
     "output_type": "display_data"
    }
   ],
   "source": [
    "mode = 29\n",
    "\n",
    "\n",
    "\n",
    "\n",
    "trajectory = get_trajectory(mode,molecule, displacements,1.5)\n",
    "nglv = nglview.show_asetraj(trajectory, gui=True)\n",
    "nglv"
   ]
  },
  {
   "cell_type": "code",
   "execution_count": null,
   "metadata": {},
   "outputs": [],
   "source": []
  },
  {
   "cell_type": "code",
   "execution_count": null,
   "metadata": {},
   "outputs": [],
   "source": []
  }
 ],
 "metadata": {
  "kernelspec": {
   "display_name": "Python 3 (ipykernel)",
   "language": "python",
   "name": "python3"
  },
  "language_info": {
   "codemirror_mode": {
    "name": "ipython",
    "version": 3
   },
   "file_extension": ".py",
   "mimetype": "text/x-python",
   "name": "python",
   "nbconvert_exporter": "python",
   "pygments_lexer": "ipython3",
   "version": "3.9.13"
  }
 },
 "nbformat": 4,
 "nbformat_minor": 4
}
