{
 "cells": [
  {
   "cell_type": "markdown",
   "metadata": {},
   "source": [
    "## Use the ASE library, the [\"building things\"](https://wiki.fysik.dtu.dk/ase/ase/build/build.html) and [crystals](https://wiki.fysik.dtu.dk/ase/gettingstarted/tut04_bulk/bulk.html) documentation  to create the atomistic models of the molecules and the crystals requested. In the different tasks document the problems you encounter. Save the executed notebook and submit it via moodle."
   ]
  },
  {
   "cell_type": "code",
   "execution_count": null,
   "metadata": {},
   "outputs": [],
   "source": [
    "import re"
   ]
  },
  {
   "cell_type": "code",
   "execution_count": null,
   "metadata": {},
   "outputs": [],
   "source": [
    "import numpy as np\n",
    "from numpy.linalg import norm\n",
    "\n",
    "from ase.io import read,write\n",
    "from ase.visualize import view,ngl\n",
    "from ase.build import molecule\n",
    "from ase.spacegroup import crystal\n",
    "import nglview as nv\n",
    "\n",
    "import nglview\n",
    "from ase.build import molecule"
   ]
  },
  {
   "cell_type": "code",
   "execution_count": null,
   "metadata": {},
   "outputs": [],
   "source": [
    "def view_structure(structure,myvec=[]):\n",
    "    t = nv.ASEStructure(structure)\n",
    "    w = nv.NGLWidget(t, gui=True)\n",
    "    w.add_unitcell()\n",
    "    w.add_ball_and_stick()\n",
    "    w.add_representation('label',label_type='atomindex',color='black')\n",
    "    w.add_representation('spacefill',selection=myvec,color=\"blue\",radius=0.5)\n",
    "    return w"
   ]
  },
  {
   "cell_type": "markdown",
   "metadata": {},
   "source": [
    "### Task 1 (1 point) create and visualize atomistic models for: Water, Benzene, Dimethyl Sulfoxide"
   ]
  },
  {
   "cell_type": "markdown",
   "metadata": {},
   "source": [
    "### Answer:"
   ]
  },
  {
   "cell_type": "code",
   "execution_count": null,
   "metadata": {},
   "outputs": [],
   "source": [
    "water = molecule(...)\n",
    "view_structure(water)"
   ]
  },
  {
   "cell_type": "code",
   "execution_count": null,
   "metadata": {},
   "outputs": [],
   "source": [
    "benzene = ...\n",
    "view_structure(benzene)"
   ]
  },
  {
   "cell_type": "code",
   "execution_count": null,
   "metadata": {},
   "outputs": [],
   "source": [
    "dmso = ...\n",
    "view_structure(dmso)"
   ]
  },
  {
   "cell_type": "markdown",
   "metadata": {},
   "source": [
    "### Task 2 (2 points) Construct the HfO2 crystal in its monoclinic form using information from the [literature](https://doi.org/10.1103/PhysRevB.65.233106) (Use the experimentally derived coordinates) . How many atomic coordinates are provided in the article? how many atoms does teh crystal contain? Explain "
   ]
  },
  {
   "cell_type": "markdown",
   "metadata": {},
   "source": [
    "### Answer:"
   ]
  },
  {
   "cell_type": "code",
   "execution_count": null,
   "metadata": {},
   "outputs": [],
   "source": [
    "a=5.117\n",
    "b=5.175\n",
    "c=5.291\n",
    "alpha=90\n",
    "beta=99.22\n",
    "gamma=90\n",
    "thespacegroup=..."
   ]
  },
  {
   "cell_type": "code",
   "execution_count": null,
   "metadata": {},
   "outputs": [],
   "source": [
    "hfo2 = crystal(symbols=['Hf','O',...],\n",
    "               basis=[(0.276,0.04,0.208),(0.074,0.332,0.347),...],\n",
    "               spacegroup=thespacegroup, \n",
    "               cellpar=[a, b, c, alpha, beta, gamma])"
   ]
  },
  {
   "cell_type": "code",
   "execution_count": null,
   "metadata": {},
   "outputs": [],
   "source": [
    "view_structure(hfo2)"
   ]
  },
  {
   "cell_type": "markdown",
   "metadata": {},
   "source": [
    "### Task 3 (2 points) Construct a 2x2x2 supercell of the orthorombic phase of MAPbI3 with parameters taken from the Supplementary information of this [article](https://doi.org/10.1039/C4CC09944C). Check (before constructing the supercell) whether the stoichiometry is respected or not."
   ]
  },
  {
   "cell_type": "markdown",
   "metadata": {},
   "source": [
    "### Answer:"
   ]
  },
  {
   "cell_type": "code",
   "execution_count": null,
   "metadata": {},
   "outputs": [],
   "source": [
    "a=8.86574\n",
    "b=12.6293\n",
    "c=8.57684\n",
    "alpha=90\n",
    "beta=90\n",
    "gamma=90\n",
    "MAPbI3=crystal(\n",
    "    symbols=['Pb','I','I','N',.....],\n",
    "    basis=[(0.5,0,0),(0.4842,0.25,-0.0562),(0.1886,0.0147,0.1844),\n",
    "           (0.9421,0.75,0.0297),(0.9372,0.25,0.0575),\n",
    "           (0.9372,0.25,0.1874),(0.8661,0.1701,0.0290),\n",
    "           .....\n",
    "          ],\n",
    "    spacegroup=..., #from the main manuscript\n",
    "    cellpar=[a,b,c,alpha,beta,gamma])"
   ]
  },
  {
   "cell_type": "code",
   "execution_count": null,
   "metadata": {},
   "outputs": [],
   "source": [
    "MAPbI3.get_chemical_formula()"
   ]
  },
  {
   "cell_type": "code",
   "execution_count": null,
   "metadata": {},
   "outputs": [],
   "source": [
    "view_structure(MAPbI3)"
   ]
  },
  {
   "cell_type": "code",
   "execution_count": null,
   "metadata": {},
   "outputs": [],
   "source": [
    "supercell=MAPbI3.repeat....."
   ]
  },
  {
   "cell_type": "code",
   "execution_count": null,
   "metadata": {},
   "outputs": [],
   "source": [
    "view_structure(supercell)"
   ]
  },
  {
   "cell_type": "markdown",
   "metadata": {},
   "source": [
    "### Task 4 (3 points) from the same supporting information as above, construct the cubic phase of MAPbI3. What is going wrong here? Comment. Is this problem, for this specific crystal documented in the literature?"
   ]
  },
  {
   "cell_type": "markdown",
   "metadata": {},
   "source": [
    "### Answer:"
   ]
  },
  {
   "cell_type": "code",
   "execution_count": null,
   "metadata": {},
   "outputs": [],
   "source": [
    "a=6.317228\n",
    "b=...\n",
    "c=...\n",
    "alpha=90\n",
    "beta=90\n",
    "gamma=90\n",
    "MAPbI3cubic=crystal(\n",
    "    symbols=['Pb','I',...],\n",
    "    basis=[(0.0,0,0),(0.5,0,0),...\n",
    "          ],\n",
    "    spacegroup=...,\n",
    "    cellpar=[a,b,c,alpha,beta,gamma])"
   ]
  },
  {
   "cell_type": "code",
   "execution_count": null,
   "metadata": {},
   "outputs": [],
   "source": [
    "view_structure(MAPbI3cubic)"
   ]
  },
  {
   "cell_type": "markdown",
   "metadata": {},
   "source": [
    "### Task 5 (2 points) complete the table below that is derived (thanks GPT4) from this [article](https://doi.org/10.1107/S056774087100342X) (read carefully the table caption). Construct the L phase of Ta2O5. Do you obtain the corrcet stoichiometry? Comment. "
   ]
  },
  {
   "cell_type": "markdown",
   "metadata": {},
   "source": [
    "### Answer:"
   ]
  },
  {
   "cell_type": "code",
   "execution_count": null,
   "metadata": {},
   "outputs": [],
   "source": [
    "table_string=\"\"\"\n",
    "|  Atom  |    x/a    |    y/b    |  z  |\n",
    "|--------|-----------|-----------|-----|\n",
    "|  M(1)  |  0.0000   |  0.0000   | 0.0 |\n",
    "|  M(2)  |  0.6784   |  0.5000   | 0.0 |\n",
    "|  M(3)  |  0.0655   |  0.08622  | 0.0 |\n",
    "|  M(4)  |  0.0558   |  0.18372  | 0.0 |\n",
    "|  M(5)  |  0.0674   |  0.27489  | 0.0 |\n",
    "|  M(6)  |  0.1610   |  0.36266  | 0.0 |\n",
    "|  M(7)  |  0.1094   |  0.45071  | 0.0 |\n",
    "|  M(8)  |  0.5917   |  0.41238  | 0.0 |\n",
    "|  M(9)  |  0.5915   |  0.31715  | 0.0 |\n",
    "| M(10)  |  0.6180   |  0.22243  | 0.0 |\n",
    "| M(11)  |  0.5220   |  0.13771  | 0.0 |\n",
    "| M(12)  |  0.5488   |  0.04624  | 0.0 |\n",
    "|  O(1)  |  0.648    |  0.0000   | 0.0 |\n",
    "|  O(2)  |  0.251    |  0.0290   | 0.0 |\n",
    "|  O(3)  |  0.882    |  0.0457   | 0.0 |\n",
    "|  O(4)  |  0.402    |  0.0923   | 0.0 |\n",
    "|  O(5)  |  0.798    |  0.1090   | 0.0 |\n",
    "|  O(6)  |  0.189    |  0.1354   | 0.0 |\n",
    "|  O(7)  |  0.398    |  0.1886   | 0.0 |\n",
    "|  O(8)  |  0.978    |  0.2265   | 0.0 |\n",
    "|  O(9)  |  0.400    |  0.2668   | 0.0 |\n",
    "| O(10)  |  0.732    |  0.2775   | 0.0 |\n",
    "| O(11)  |  0.283    |  0.3152   | 0.0 |\n",
    "| O(12)  |  0.466    |  0.3655   | 0.0 |\n",
    "| O(13)  |  0.275    |  0.4076   | 0.0 |\n",
    "| O(14)  |  0.398    |  0.4681   | 0.0 |\n",
    "| O(15)  |  0.773    |  0.4540   | 0.0 |\n",
    "| O(16)  |  0.021    |  0.5000   | 0.0 |\n",
    "| O(17)  |  xxxxx    |  xxxxxx   | xxx |\n",
    "| O(18)  |  0.650    |  0.5000   | 0.5 |\n",
    "| O(19)  |  0.090    |  0.0830   | 0.5 |\n",
    "| O(20)  |  0.090    |  0.1775   | 0.5 |\n",
    "| O(21)  |  0.030    |  0.2780   | 0.5 |\n",
    "| O(22)  |  0.160    |  0.3610   | 0.5 |\n",
    "| O(23)  |  0.100    |  0.4500   | 0.5 |\n",
    "| O(24)  |  0.560    |  0.0480   | 0.5 |\n",
    "| O(25)  |  0.512    |  0.1390   | 0.5 |\n",
    "| O(26)  |  0.620    |  0.2230   | 0.5 |\n",
    "| O(27)  |  0.580    |  0.3115   | 0.5 |\n",
    "| O(28)  |  0.582    |  0.4133   | 0.5 |\n",
    "| O(29)  |  0.860    |  0.1300   | 0.0 |\n",
    "| O(30)  |  0.770    |  0.1725   | 0.0 |\n",
    "| O(31)  |  0.900    |  0.3285   | 0.0 |\n",
    "| O(32)  |  0.830    |  0.3675   | 0.0 |\n",
    "| O(33)  |  xxxxx    |  xxxxxx   | xxx |\n",
    "\"\"\""
   ]
  },
  {
   "cell_type": "code",
   "execution_count": null,
   "metadata": {},
   "outputs": [],
   "source": [
    "# Regular expression pattern to match coordinates\n",
    "# Assumes coordinates are separated by \"|\" or spaces and possibly followed by spaces\n",
    "pattern = r\"\\|\\s*\\w+\\(\\d+\\)\\s*\\|\\s*(-?\\d+\\.\\d+)\\s*\\|\\s*(-?\\d+\\.\\d+)\\s*\\|\\s*(-?\\d+\\.\\d+)\\s*\\|\"\n",
    "\n",
    "# Find all matches in the string\n",
    "matches = re.findall(pattern, table_string)\n",
    "\n",
    "# Convert matches to floats and print or store them as needed\n",
    "coordinates = [(float(x), float(y), float(z)) for x, y, z in matches]"
   ]
  },
  {
   "cell_type": "code",
   "execution_count": null,
   "metadata": {},
   "outputs": [],
   "source": [
    "a=6.198\n",
    "b=40.290\n",
    "c=3.888\n",
    "Ta2O5=crystal(\n",
    "    symbols='Ta12O33',\n",
    "    basis=coordinates,\n",
    "    spacegroup=11,\n",
    "    cellpar=[a,b,c,90,90,90],setting=1)"
   ]
  },
  {
   "cell_type": "code",
   "execution_count": null,
   "metadata": {},
   "outputs": [],
   "source": [
    "view_structure(Ta2O5)"
   ]
  }
 ],
 "metadata": {
  "kernelspec": {
   "display_name": "Python 3 (ipykernel)",
   "language": "python",
   "name": "python3"
  },
  "language_info": {
   "codemirror_mode": {
    "name": "ipython",
    "version": 3
   },
   "file_extension": ".py",
   "mimetype": "text/x-python",
   "name": "python",
   "nbconvert_exporter": "python",
   "pygments_lexer": "ipython3",
   "version": "3.9.13"
  }
 },
 "nbformat": 4,
 "nbformat_minor": 4
}
