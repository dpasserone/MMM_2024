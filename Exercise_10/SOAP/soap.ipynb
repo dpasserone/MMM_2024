{
 "cells": [
  {
   "cell_type": "code",
   "execution_count": null,
   "metadata": {
    "init_cell": true
   },
   "outputs": [],
   "source": [
    "## use in case missing interactive plt libr\n",
    "%matplotlib inline   \n",
    "     \n",
    "from matplotlib import pylab as plt\n",
    "import nglview\n",
    "\n",
    "import ipywidgets as ipw\n",
    "from IPython.display import display, clear_output, HTML\n",
    "\n",
    "import ase\n",
    "from ase.io import read, write\n",
    "from ase.build import make_supercell\n",
    "from ase.visualize import view\n",
    "\n",
    "import numpy as np\n",
    "\n",
    "from rascal.representations import SphericalInvariants\n",
    "from rascal.models import Kernel"
   ]
  },
  {
   "cell_type": "markdown",
   "metadata": {},
   "source": [
    "## load a set of Al-O-N structures (traj.xyz) and the corresponding DFT energies (etotsorted.dat). Apply PBC to the structures and wrap atomic positions"
   ]
  },
  {
   "cell_type": "code",
   "execution_count": null,
   "metadata": {
    "hidden": true
   },
   "outputs": [],
   "source": [
    "# load the trajectory\n",
    "framestot= read('traj.xyz',':')\n",
    "\n",
    "# apply the PBC to the box\n",
    "for i in framestot:\n",
    "    i.pbc=True\n",
    "    # Atoms should be wrapped within the cell, so let's just apply the PBC and wrap them\n",
    "    i.wrap(eps=1e-11)\n",
    "    \n",
    "# load the corresponding total energies\n",
    "entotfull=np.loadtxt(\"entotsorted.dat\")"
   ]
  },
  {
   "cell_type": "markdown",
   "metadata": {},
   "source": [
    "## Select N structures randomly from the set"
   ]
  },
  {
   "cell_type": "code",
   "execution_count": null,
   "metadata": {},
   "outputs": [],
   "source": [
    "# test it on a random sample\n",
    "import random as rnd\n",
    "from operator import itemgetter \n",
    "\n",
    "# get a random set, N structures\n",
    "N=200\n",
    "idrnd=np.asarray(rnd.sample(list(range(len(framestot))),N))\n",
    "frames=list(itemgetter(*idrnd.tolist())(framestot))\n",
    "\n",
    "# get the corresponding energies\n",
    "entot=np.asarray(list(itemgetter(*idrnd.tolist())(entotfull)))"
   ]
  },
  {
   "cell_type": "markdown",
   "metadata": {
    "hidden": true
   },
   "source": [
    "## make a map with kernel pca projection"
   ]
  },
  {
   "cell_type": "code",
   "execution_count": null,
   "metadata": {
    "hidden": true
   },
   "outputs": [],
   "source": [
    "# SOAP parameters\n",
    "\n",
    "hypers = dict(soap_type=\"PowerSpectrum\",\n",
    "              interaction_cutoff=3.5, \n",
    "              max_radial=6, \n",
    "              max_angular=6, \n",
    "              gaussian_sigma_constant=0.4,\n",
    "              gaussian_sigma_type=\"Constant\",\n",
    "              cutoff_smooth_width=0.5,\n",
    "              )\n",
    "\n",
    "# Define the model\n",
    "soap = SphericalInvariants(**hypers)\n",
    "kernel = Kernel(soap,name='Cosine', zeta=2, target_type='Structure', kernel_type='Full')"
   ]
  },
  {
   "cell_type": "code",
   "execution_count": null,
   "metadata": {},
   "outputs": [],
   "source": [
    "#Kernel?"
   ]
  },
  {
   "cell_type": "code",
   "execution_count": null,
   "metadata": {
    "hidden": true
   },
   "outputs": [],
   "source": [
    "# Compute the SOAPS \n",
    "managers = soap.transform(frames)"
   ]
  },
  {
   "cell_type": "code",
   "execution_count": null,
   "metadata": {},
   "outputs": [],
   "source": [
    "# and get the global similarity matrix (NxN matrix)\n",
    "Kmat = kernel(managers)"
   ]
  },
  {
   "cell_type": "code",
   "execution_count": null,
   "metadata": {},
   "outputs": [],
   "source": [
    "Kmat[1][1]"
   ]
  },
  {
   "cell_type": "code",
   "execution_count": null,
   "metadata": {},
   "outputs": [],
   "source": [
    "print(len(frames))"
   ]
  },
  {
   "cell_type": "code",
   "execution_count": null,
   "metadata": {
    "hidden": true
   },
   "outputs": [],
   "source": [
    "from sklearn.decomposition import KernelPCA"
   ]
  },
  {
   "cell_type": "code",
   "execution_count": null,
   "metadata": {
    "hidden": true
   },
   "outputs": [],
   "source": [
    "# apply the dimensionality reduction. Step 1: fit the model\n",
    "kpca = KernelPCA(n_components=2,kernel='precomputed')\n",
    "kpca.fit(Kmat)"
   ]
  },
  {
   "cell_type": "code",
   "execution_count": null,
   "metadata": {
    "hidden": true
   },
   "outputs": [],
   "source": [
    "# Step 2 : project in low dimension the HD data using the kpca just trained\n",
    "X = kpca.transform(Kmat)"
   ]
  },
  {
   "cell_type": "code",
   "execution_count": null,
   "metadata": {},
   "outputs": [],
   "source": [
    "print(len(X))"
   ]
  },
  {
   "cell_type": "code",
   "execution_count": null,
   "metadata": {
    "hidden": true
   },
   "outputs": [],
   "source": [
    "plt.scatter(X[:,0],X[:,1],s=3)"
   ]
  },
  {
   "cell_type": "markdown",
   "metadata": {},
   "source": [
    "## plot selected frame"
   ]
  },
  {
   "cell_type": "code",
   "execution_count": null,
   "metadata": {},
   "outputs": [],
   "source": [
    "#frame=50\n",
    "#plt.scatter(X[:,0],X[:,1],s=3)\n",
    "#plt.scatter(X[frame,0],X[frame,1],s=3,c='red')\n",
    "#a=view(frames[frame], viewer='ngl')"
   ]
  },
  {
   "cell_type": "code",
   "execution_count": null,
   "metadata": {},
   "outputs": [],
   "source": [
    "ou=ipw.Output()\n",
    "idf=ipw.IntSlider(\n",
    "    value=7,\n",
    "    min=0,\n",
    "    max=N-1,\n",
    "    step=1,\n",
    "    description='frame:',\n",
    "    disabled=False,\n",
    "    continuous_update=False,\n",
    "    orientation='horizontal',\n",
    "    readout=True,\n",
    "    readout_format='d'\n",
    ")\n",
    "\n",
    "display(idf,ou)\n",
    "\n",
    "def on_frame_change(change):\n",
    "    with ou:\n",
    "        clear_output()\n",
    "        val=idf.value\n",
    "        plt.scatter(X[:,0],X[:,1],s=3)\n",
    "        plt.scatter(X[val,0],X[val,1],s=5,c='red')\n",
    "        plt.show()\n",
    "        #display(view(frames[val], viewer='ngl'))\n",
    "        v=view(frames[val], viewer='ngl')\n",
    "        #v=_\n",
    "        while hasattr(v.view, \"component_0\"):\n",
    "            v.view.component_0.clear_representations()\n",
    "            cid = v.view.component_0.id\n",
    "            v.view.remove_component(cid)\n",
    "        v.view.add_component(nglview.ASEStructure(frames[val]), \n",
    "                     default_representation=False)\n",
    "        v.view.add_ball_and_stick(aspectRatio=2.0, opacity=1.0,component=0)\n",
    "        v.view.add_unitcell()\n",
    "        v.view.center() \n",
    "        display(v)\n",
    "idf.observe(on_frame_change,names='value')"
   ]
  },
  {
   "cell_type": "markdown",
   "metadata": {
    "hidden": true
   },
   "source": [
    "## PLOT the cohesive energy on top of the map"
   ]
  },
  {
   "cell_type": "markdown",
   "metadata": {},
   "source": [
    "## getnatms determines the number of Al,N,O for each frame"
   ]
  },
  {
   "cell_type": "code",
   "execution_count": null,
   "metadata": {},
   "outputs": [],
   "source": [
    "# get the partial numbers of atoms\n",
    "def getnatms(frm):\n",
    "    tmp=np.asarray([len(np.where(frm.get_atomic_numbers()==13)[0]),len(np.where(frm.get_atomic_numbers()==7)[0]),len(np.where(frm.get_atomic_numbers()==8)[0])])\n",
    "    return tmp"
   ]
  },
  {
   "cell_type": "markdown",
   "metadata": {},
   "source": [
    "## identify pure AlN and pure Al2O3 to compute cohesive energy. The supercell of AlN contains 96 formula units while the supercell of Al2O3 contains 48 formula units"
   ]
  },
  {
   "cell_type": "code",
   "execution_count": null,
   "metadata": {},
   "outputs": [],
   "source": [
    "# get ref energies\n",
    "natms=np.asarray([getnatms(i) for i in framestot])\n",
    "idxALN=np.where(natms[:,2]==0)\n",
    "idxAL2O3=np.where(natms[:,1]==0)\n",
    "enALN=entotfull[idxALN][0]/96.\n",
    "enAL2O3=entotfull[idxAL2O3][0]/48."
   ]
  },
  {
   "cell_type": "code",
   "execution_count": null,
   "metadata": {},
   "outputs": [],
   "source": [
    "# get the numbers just for the subset\n",
    "natms=np.asarray([getnatms(i) for i in frames])\n",
    "#idxALN=np.where(natms[:,2]==0)\n",
    "#idxAL2O3=np.where(natms[:,1]==0)"
   ]
  },
  {
   "cell_type": "markdown",
   "metadata": {},
   "source": [
    "## compute cohesive energy per atom  as $(E_{i} -n_N \\mu _{AlN} - n_O \\mu _{Al_2 O_3})/n_{atoms}$ "
   ]
  },
  {
   "cell_type": "code",
   "execution_count": null,
   "metadata": {},
   "outputs": [],
   "source": [
    "def get_encoes(etot,ealn,eal2o3,atms):\n",
    "    return (etot-atms[1]*ealn-atms[2]*eal2o3/3.)/atms.sum()"
   ]
  },
  {
   "cell_type": "code",
   "execution_count": null,
   "metadata": {},
   "outputs": [],
   "source": [
    "# get the coesive energy\n",
    "ecoes=np.asarray([get_encoes(en,enALN,enAL2O3,natms[i]) for i,en in enumerate(entot)])"
   ]
  },
  {
   "cell_type": "code",
   "execution_count": null,
   "metadata": {},
   "outputs": [],
   "source": [
    "# color the points according to the coesive energy\n",
    "plt.scatter(X[:,0],X[:,1],s=3,c=ecoes)"
   ]
  },
  {
   "cell_type": "code",
   "execution_count": null,
   "metadata": {},
   "outputs": [],
   "source": [
    "plt.scatter(X[:,0],X[:,1],s=3,c=natms[:,2])"
   ]
  }
 ],
 "metadata": {
  "celltoolbar": "Initialization Cell",
  "kernelspec": {
   "display_name": "Python 3 (ipykernel)",
   "language": "python",
   "name": "python3"
  },
  "language_info": {
   "codemirror_mode": {
    "name": "ipython",
    "version": 3
   },
   "file_extension": ".py",
   "mimetype": "text/x-python",
   "name": "python",
   "nbconvert_exporter": "python",
   "pygments_lexer": "ipython3",
   "version": "3.9.13"
  },
  "toc": {
   "base_numbering": 1,
   "colors": {
    "hover_highlight": "#DAA520",
    "navigate_num": "#000000",
    "navigate_text": "#333333",
    "running_highlight": "#FF0000",
    "selected_highlight": "#FFD700",
    "sidebar_border": "#EEEEEE",
    "wrapper_background": "#FFFFFF"
   },
   "moveMenuLeft": true,
   "nav_menu": {
    "height": "12px",
    "width": "252px"
   },
   "navigate_menu": true,
   "number_sections": true,
   "sideBar": true,
   "skip_h1_title": false,
   "threshold": 4,
   "title_cell": "Table of Contents",
   "title_sidebar": "Contents",
   "toc_cell": false,
   "toc_position": {},
   "toc_section_display": "block",
   "toc_window_display": false,
   "widenNotebook": false
  }
 },
 "nbformat": 4,
 "nbformat_minor": 4
}
