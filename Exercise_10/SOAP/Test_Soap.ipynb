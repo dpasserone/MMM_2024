{
 "cells": [
  {
   "cell_type": "code",
   "execution_count": null,
   "id": "6e2d7278",
   "metadata": {},
   "outputs": [],
   "source": [
    "import numpy as np\n",
    "import pandas as pd\n",
    "from scipy.spatial.distance import pdist, squareform\n",
    "\n",
    "from ase import Atoms\n",
    "\n",
    "from rascal.representations import SphericalInvariants\n",
    "from rascal.models import Kernel"
   ]
  },
  {
   "cell_type": "markdown",
   "id": "41c8a31a",
   "metadata": {},
   "source": [
    "### Check equation (9) in [Comparing molecules and solids across structural and alchemical space](https://arxiv.org/abs/1601.04077)"
   ]
  },
  {
   "cell_type": "code",
   "execution_count": null,
   "id": "4c11e246",
   "metadata": {},
   "outputs": [],
   "source": [
    "def get_systems_tag(frames):\n",
    "    labels = []\n",
    "    for i, frame in enumerate(frames):\n",
    "        labels.extend([i]*len(frame))\n",
    "    return np.array(labels)\n",
    "def get_dist_mat(soaps_vectors, normalized=True):\n",
    "    distance = squareform(pdist(soaps_vectors))\n",
    "    \n",
    "    if normalized:\n",
    "        max_val=max(distance.flatten())\n",
    "\n",
    "    distance_df = pd.DataFrame(distance/max_val)\n",
    "    # Set display options to show all columns without truncation and maximum 3 decimals\n",
    "    pd.set_option('display.max_columns', None)\n",
    "    pd.set_option('display.float_format', lambda x: '%.4f' % x)\n",
    "    return distance_df\n",
    "def avg_soaps(atoms_soaps_features, frames):\n",
    "    df = pd.DataFrame(atoms_soaps_features)\n",
    "    df[\"molecule\"]=get_systems_tag(frames)\n",
    "    return df.groupby(\"molecule\").mean().values\n",
    "\n",
    "def get_kernel_mat(soaps_vectors):\n",
    "    distance = squareform(pdist(soaps_vectors))\n",
    "    # Create kernel matrix using Gaussian kernel\n",
    "    sigma = 0.5  # You can adjust the sigma value according to your requirement\n",
    "    kernel_matrix = np.exp(-distance ** 2 / (2 * sigma ** 2))\n",
    "\n",
    "    # Convert kernel matrix to a pandas DataFrame\n",
    "    kernel_matrix_df = pd.DataFrame(kernel_matrix)\n",
    "    return kernel_matrix_df"
   ]
  },
  {
   "cell_type": "code",
   "execution_count": null,
   "id": "afb0b962",
   "metadata": {},
   "outputs": [],
   "source": [
    "samples0=[Atoms('CC',positions=[[0,0,0],[1,0,0]]),\n",
    "         Atoms('CC',positions=[[0,0,0],[0,1.1,0]]),\n",
    "         Atoms('CC',positions=[[0,0,0],[1.21,0,0]]),\n",
    "         Atoms('CC',positions=[[0,0,0],[0,1.33,0]]),\n",
    "         Atoms('CC',positions=[[1,0,1],[1,1.01,1]]),\n",
    "         Atoms('CC',positions=[[0,0,0],[1.5,0,0]]),\n",
    "          \n",
    "        ]\n",
    "samples=[Atoms('CC',positions=[[0,0,0],[1,0,0]]),\n",
    "         Atoms('CC',positions=[[0,0,0],[0,1.1,0]]),\n",
    "         Atoms('CC',positions=[[0,0,0],[1.21,0,0]]),\n",
    "         Atoms('CC',positions=[[0,0,0],[0,1.33,0]]),\n",
    "         Atoms('CN',positions=[[1,0,1],[1,1.01,1]]),\n",
    "         Atoms('CC',positions=[[0,0,0],[1.5,0,0]]),\n",
    "          \n",
    "        ]"
   ]
  },
  {
   "cell_type": "code",
   "execution_count": null,
   "id": "04628348",
   "metadata": {},
   "outputs": [],
   "source": [
    "#SphericalInvariants?"
   ]
  },
  {
   "cell_type": "code",
   "execution_count": null,
   "id": "b7f9e65c",
   "metadata": {
    "scrolled": true
   },
   "outputs": [],
   "source": [
    "hypers = {\n",
    "    \"soap_type\":\"PowerSpectrum\",\n",
    "    \"interaction_cutoff\": 5.0,\n",
    "    \"max_radial\": 6,\n",
    "    \"max_angular\": 6,\n",
    "    \"gaussian_sigma_constant\": 0.4,\n",
    "    \"gaussian_sigma_type\":\"Constant\",\n",
    "    \"cutoff_smooth_width\":0.5,\n",
    "    \"radial_basis\": \"GTO\",\n",
    "    \"cutoff_function_type\": \"ShiftedCosine\",\n",
    "    \"cutoff_function_parameters\":{\"width\": 0.5},\n",
    "    \"global_species\":[6,7]\n",
    "    }\n",
    "soap = SphericalInvariants(**hypers)"
   ]
  },
  {
   "cell_type": "code",
   "execution_count": null,
   "id": "61d919ef",
   "metadata": {},
   "outputs": [],
   "source": [
    "for sample in samples0:\n",
    "    sample.cell=[10,10,10]\n",
    "    sample.pbc=(1,1,1)\n",
    "    sample.wrap()\n",
    "for sample in samples:\n",
    "    sample.cell=[10,10,10]\n",
    "    sample.pbc=(1,1,1)\n",
    "    sample.wrap()"
   ]
  },
  {
   "cell_type": "code",
   "execution_count": null,
   "id": "e023d783",
   "metadata": {},
   "outputs": [],
   "source": [
    "soap_rep0 = soap.transform(samples0)\n",
    "soap_rep = soap.transform(samples)"
   ]
  },
  {
   "cell_type": "code",
   "execution_count": null,
   "id": "7a39733f",
   "metadata": {},
   "outputs": [],
   "source": [
    "X0=soap_rep0.get_features(soap)\n",
    "X=soap_rep.get_features(soap)"
   ]
  },
  {
   "cell_type": "code",
   "execution_count": null,
   "id": "2e6258de",
   "metadata": {},
   "outputs": [],
   "source": [
    "avg_soap_samples0=avg_soaps(X0, samples0)\n",
    "avg_soap_samples=avg_soaps(X, samples)"
   ]
  },
  {
   "cell_type": "code",
   "execution_count": null,
   "id": "5052fe35",
   "metadata": {},
   "outputs": [],
   "source": [
    "get_dist_mat(avg_soap_samples0)"
   ]
  },
  {
   "cell_type": "code",
   "execution_count": null,
   "id": "c881e150",
   "metadata": {},
   "outputs": [],
   "source": [
    "get_dist_mat(avg_soap_samples)"
   ]
  }
 ],
 "metadata": {
  "kernelspec": {
   "display_name": "Python 3 (ipykernel)",
   "language": "python",
   "name": "python3"
  },
  "language_info": {
   "codemirror_mode": {
    "name": "ipython",
    "version": 3
   },
   "file_extension": ".py",
   "mimetype": "text/x-python",
   "name": "python",
   "nbconvert_exporter": "python",
   "pygments_lexer": "ipython3",
   "version": "3.9.13"
  }
 },
 "nbformat": 4,
 "nbformat_minor": 5
}
