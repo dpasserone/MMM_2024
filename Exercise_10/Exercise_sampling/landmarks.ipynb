{
 "cells": [
  {
   "cell_type": "code",
   "execution_count": null,
   "metadata": {},
   "outputs": [],
   "source": [
    "%matplotlib inline\n",
    "import numpy as np\n",
    "import matplotlib.pyplot as plt\n",
    "from IPython import display"
   ]
  },
  {
   "cell_type": "code",
   "execution_count": null,
   "metadata": {},
   "outputs": [],
   "source": [
    "def distance(a,b) :\n",
    "    return np.linalg.norm(a - b)"
   ]
  },
  {
   "cell_type": "markdown",
   "metadata": {},
   "source": [
    "## random selection based on numpy"
   ]
  },
  {
   "cell_type": "code",
   "execution_count": null,
   "metadata": {},
   "outputs": [],
   "source": [
    "def randsamp(N,R,W):\n",
    "    return np.asarray(R)[np.random.choice(len(R), N, p=W/W.sum())]"
   ]
  },
  {
   "cell_type": "markdown",
   "metadata": {},
   "source": [
    "## more explicit form for the random selection"
   ]
  },
  {
   "cell_type": "code",
   "execution_count": null,
   "metadata": {},
   "outputs": [],
   "source": [
    "def select_random (N,W,R):\n",
    "    # Calculate sum of all weights\n",
    "    totw = sum(W)\n",
    "    tt , landmarks = 0 , []\n",
    "    for i in range (0,N):\n",
    "        # Generate a random number between 0 and the total weight\n",
    "        # of the unselected points\n",
    "        tw,rand = 0 , (totw-tt)*np.random.uniform(0,1)\n",
    "        for j in range (0 ,len(R)):\n",
    "            # Make sure each landmark is only selected once\n",
    "            if R[j] in landmarks : continue\n",
    "            tw += W[ j ]\n",
    "            if rand < tw:\n",
    "                landmarks.append(R[j])\n",
    "                tt += W[j]\n",
    "                break\n",
    "    return landmarks"
   ]
  },
  {
   "cell_type": "markdown",
   "metadata": {},
   "source": [
    "## simple version of FPS algorithm. Terribly slow"
   ]
  },
  {
   "cell_type": "code",
   "execution_count": null,
   "metadata": {},
   "outputs": [],
   "source": [
    "def farthest_point_sampling(N,W,R):\n",
    "    #Select the first landmark at random\n",
    "    ll = select_random(1,W,R)\n",
    "    #ll=R[0]\n",
    "    landmarks = [ll[0]]\n",
    "    for i in range(1,N):\n",
    "        #The outer loop ensures that the new landmark is the\n",
    "        #farthest landmark from the set of landmarks that have\n",
    "        #been selected thus far .\n",
    "        maxd = 0.0\n",
    "        for rr in R:\n",
    "            #The inner loop here finds the minimum distance\n",
    "            #between data point rr and the setof landmarks that\n",
    "            #have been selected thus far.\n",
    "            mind = float ('Infinity')\n",
    "            for ll  in landmarks : #landmark closest to the point rr\n",
    "                D=distance(ll,rr)\n",
    "                if D < mind: mind = D\n",
    "            if mind>maxd : # biggest among distance between rr and its closest landmark\n",
    "                maxd = mind\n",
    "                tland = rr\n",
    "        landmarks.append(tland)\n",
    "    return landmarks"
   ]
  },
  {
   "cell_type": "markdown",
   "metadata": {},
   "source": [
    "## more efficient implementation of FPS"
   ]
  },
  {
   "cell_type": "code",
   "execution_count": null,
   "metadata": {},
   "outputs": [],
   "source": [
    "def FPS(X, n=0, idx=None):\n",
    "    \"\"\"\n",
    "        Does Farthest Point Selection on a set of points X\n",
    "        Adapted from a routine by Michele Ceriotti\n",
    "    \"\"\"\n",
    "    N = X.shape[0]\n",
    "\n",
    "    # If desired number of points less than or equal to zero,\n",
    "    # select all points\n",
    "    if n <= 0:\n",
    "        n = N\n",
    "\n",
    "    # Initialize arrays to store distances and indices\n",
    "    fps_idxs = np.zeros(n, dtype=np.int32)\n",
    "    d = np.zeros(n)\n",
    "\n",
    "    if idx is None:\n",
    "        # Pick first point at random\n",
    "        idx = np.random.randint(0, N)\n",
    "    fps_idxs[0] = idx\n",
    "\n",
    "    # Compute distance from all points to the first point\n",
    "    d1 = np.linalg.norm(X - X[idx], axis=1)**2\n",
    "\n",
    "    # Loop over the remaining points...\n",
    "    for i in range(1, n):\n",
    "\n",
    "        # Get maximum distance and corresponding point\n",
    "        fps_idxs[i] = np.argmax(d1)\n",
    "        d[i - 1] = np.amax(d1)\n",
    "\n",
    "        # Compute distance from all points to the selected point\n",
    "        d2 = np.linalg.norm(X - X[fps_idxs[i]], axis=1)**2\n",
    "\n",
    "        # Set distances to minimum among the last two selected points\n",
    "        d1 = np.minimum(d1, d2)\n",
    "\n",
    "        if d1.max() == 0.0:\n",
    "            print(\"Only {} FPS Possible\".format(i))\n",
    "            return fps_idxs[:i], d[:i]\n",
    "\n",
    "    return X[fps_idxs]#, d"
   ]
  },
  {
   "cell_type": "markdown",
   "metadata": {},
   "source": [
    "## Algorithm to determine voronoi polyedra and wheights"
   ]
  },
  {
   "cell_type": "code",
   "execution_count": null,
   "metadata": {},
   "outputs": [],
   "source": [
    "def voronoi_weights(L,R,W):\n",
    "    weights = np.zeros(len(L))\n",
    "    tpoints = np.zeros(len(R))\n",
    "    # Loop over all random vectorsin data set\n",
    "    for i,r in enumerate(R) :\n",
    "        #Find closest landmark to ith random vector\n",
    "        dis=np.linalg.norm(L - r, axis=1)\n",
    "        mind=np.amin(dis)\n",
    "        nearest=np.argmin(dis)\n",
    "        \n",
    "        #Add weight of ith random vector\n",
    "        #to weight of closest landmark\n",
    "        #weights[nearest] += W[i]\n",
    "        \n",
    "        weights[nearest]+=W[i]\n",
    "        #Also add the ith random vector to the list of\n",
    "        #random vectors that are assigned to this landmark\n",
    "        tpoints[i]=nearest\n",
    "    points=[]\n",
    "    for i,v in enumerate(L):\n",
    "        points.append(R[np.where(tpoints==i)])\n",
    "    return weights, points"
   ]
  },
  {
   "cell_type": "markdown",
   "metadata": {},
   "source": [
    "## \"well tempered FPS\" based on FPS() function defined above"
   ]
  },
  {
   "cell_type": "code",
   "execution_count": null,
   "metadata": {},
   "outputs": [],
   "source": [
    "def wtfps_landmarks_selection(g,N,W,R) :\n",
    "    K = int(np.sqrt(len(R)*N))\n",
    "    #Select K landmarks using FPS\n",
    "    fps_l=FPS(R, n=K, idx=None)\n",
    "    #Calculate voronoi weights of fps landmarks and assign each of\n",
    "    #the input random vectors to its associated voronoi polyhedron\n",
    "    fps_w , fps_p = voronoi_weights(fps_l,R,W)\n",
    "    #Modify the weights. We assume here that the sum of all\n",
    "    #the weights in W is equal to one\n",
    "    #Create a list containing the indices of the voronoi polyhedra\n",
    "    fps_i=np.asarray(list(range(K)))\n",
    "    #Now actually select the final landmarks\n",
    "    ilandmarks = randsamp(N,fps_i,fps_w**g)\n",
    "    #select one random point for each ilandmark\n",
    "    landmarks = [ randsamp(1,fps_p[i],np.ones(len(fps_p[i])))[0] for i in ilandmarks]\n",
    "    #landmarks=fps_l[ilandmarks]\n",
    "    \n",
    "    return np.asarray(landmarks)"
   ]
  },
  {
   "cell_type": "code",
   "execution_count": null,
   "metadata": {},
   "outputs": [],
   "source": [
    "display.Image(\"./fps.png\")"
   ]
  },
  {
   "cell_type": "markdown",
   "metadata": {},
   "source": [
    "## creation of dataset \"data\" as superposition of three 2D gaussians (data1,data2,data3)"
   ]
  },
  {
   "cell_type": "code",
   "execution_count": null,
   "metadata": {},
   "outputs": [],
   "source": [
    "N1=5000\n",
    "N2=5000\n",
    "N3=5000\n",
    "Ns=150\n",
    "\n",
    "data1=np.random.normal([4,2], [1,0.7], size=[int(N1),2])\n",
    "data2=np.random.normal([8.1,13], [2,1.5], size=[int(N2),2])\n",
    "data3=np.random.normal([14,7], [1.5,0.5], size=[int(N3),2])\n",
    "data = np.concatenate((data1, data2,data3), axis=0)\n",
    "weights=np.ones(N1+N2+N3)/(N1+N2+N3)\n"
   ]
  },
  {
   "cell_type": "markdown",
   "metadata": {},
   "source": [
    "## random selection of landmarks \"lm\""
   ]
  },
  {
   "cell_type": "code",
   "execution_count": null,
   "metadata": {},
   "outputs": [],
   "source": [
    "lm=randsamp(Ns,data,weights)"
   ]
  },
  {
   "cell_type": "markdown",
   "metadata": {},
   "source": [
    "## FPS selection of landmarks \"lm_fp\""
   ]
  },
  {
   "cell_type": "code",
   "execution_count": null,
   "metadata": {},
   "outputs": [],
   "source": [
    "lm_fp=FPS(data, n=Ns, idx=None)"
   ]
  },
  {
   "cell_type": "markdown",
   "metadata": {},
   "source": [
    "## improved FPS with three different values of $\\gamma$ \"lm_gfp1..\""
   ]
  },
  {
   "cell_type": "code",
   "execution_count": null,
   "metadata": {},
   "outputs": [],
   "source": [
    "lm_gfp1=wtfps_landmarks_selection(0.25,Ns,weights,data)\n",
    "lm_gfp2=wtfps_landmarks_selection(1,Ns,weights,data)\n",
    "lm_gfp3=wtfps_landmarks_selection(4,Ns,weights,data)"
   ]
  },
  {
   "cell_type": "code",
   "execution_count": null,
   "metadata": {},
   "outputs": [],
   "source": [
    "x1,y1 = data.T\n",
    "x2,y2 = np.array(lm).T\n",
    "x3,y3 = np.array(lm_fp).T\n",
    "x4,y4 = np.array(lm_gfp1).T\n",
    "x5,y5 = np.array(lm_gfp2).T\n",
    "x6,y6 = np.array(lm_gfp3).T"
   ]
  },
  {
   "cell_type": "code",
   "execution_count": null,
   "metadata": {
    "scrolled": true
   },
   "outputs": [],
   "source": [
    "fig, axs = plt.subplots(nrows=2, ncols=3, figsize=(16,12), constrained_layout=True)\n",
    "fig.suptitle('Different sampling techniques ', fontsize=30)\n",
    "for i in range(0,2):\n",
    "    for j in range (0,3):\n",
    "        axs[i,j].set_xlim(0,20)\n",
    "        axs[i,j].set_ylim(0,20)\n",
    "ax = axs[0, 0]\n",
    "ax.scatter(x1,y1,s=1,c='black',marker='o')\n",
    "ax.set_aspect('equal')\n",
    "ax.set_title('data',fontsize=18)\n",
    "\n",
    "ax = axs[0, 1]\n",
    "ax.scatter(x1,y1,s=1,c='black',marker='o')\n",
    "ax.scatter(x2,y2,s=8,c='red',marker='o')\n",
    "ax.set_aspect('equal')\n",
    "ax.set_title('random sampling',fontsize=18)\n",
    "\n",
    "ax = axs[0, 2]\n",
    "ax.scatter(x1,y1,s=1,c='black',marker='o')\n",
    "ax.scatter(x3,y3,s=8,c='red',marker='o')\n",
    "ax.set_aspect('equal')\n",
    "ax.set_title('farthest point sampling',fontsize=18)\n",
    "\n",
    "ax = axs[1, 0]\n",
    "ax.scatter(x1,y1,s=1,c='black',marker='o')\n",
    "ax.scatter(x4,y4,s=8,c='red',marker='o')\n",
    "ax.set_aspect('equal')\n",
    "ax.set_title(r'improved FPS $\\gamma=0.25$',fontsize=18)\n",
    "\n",
    "ax = axs[1, 1]\n",
    "ax.scatter(x1,y1,s=1,c='black',marker='o')\n",
    "ax.scatter(x5,y5,s=8,c='red',marker='o')\n",
    "ax.set_aspect('equal')\n",
    "ax.set_title(r'improved FPS $\\gamma=1.0$ same as random',fontsize=18)\n",
    "\n",
    "ax = axs[1, 2]\n",
    "ax.scatter(x1,y1,s=1,c='black',marker='o')\n",
    "ax.scatter(x6,y6,s=8,c='red',marker='o')\n",
    "ax.set_aspect('equal')\n",
    "ax.set_title(r'improved FPS $\\gamma=4.0$',fontsize=18)\n",
    "#plt.savefig(\"sampling.png\",dpi=150)\n",
    "plt.show()"
   ]
  }
 ],
 "metadata": {
  "kernelspec": {
   "display_name": "Python 3 (ipykernel)",
   "language": "python",
   "name": "python3"
  },
  "language_info": {
   "codemirror_mode": {
    "name": "ipython",
    "version": 3
   },
   "file_extension": ".py",
   "mimetype": "text/x-python",
   "name": "python",
   "nbconvert_exporter": "python",
   "pygments_lexer": "ipython3",
   "version": "3.9.13"
  }
 },
 "nbformat": 4,
 "nbformat_minor": 4
}
