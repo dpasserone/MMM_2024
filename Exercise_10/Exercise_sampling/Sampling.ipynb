{
 "cells": [
  {
   "cell_type": "code",
   "execution_count": null,
   "metadata": {},
   "outputs": [],
   "source": [
    "%matplotlib inline\n",
    "import random\n",
    "import math\n",
    "import numpy as np\n",
    "import scipy.stats as st\n",
    "from scipy.integrate import quad\n",
    "import matplotlib.pyplot as plt\n",
    "from IPython import display"
   ]
  },
  {
   "cell_type": "code",
   "execution_count": null,
   "metadata": {},
   "outputs": [],
   "source": [
    "display.Image(\"./kernel.png\")"
   ]
  },
  {
   "cell_type": "code",
   "execution_count": null,
   "metadata": {},
   "outputs": [],
   "source": [
    "def gaussian(x,mu,sig):\n",
    "    return 1/(np.exp(np.power(x - mu,2)/(2.*np.power(sig,2)))*np.sqrt(2*np.pi)*sig)"
   ]
  },
  {
   "cell_type": "markdown",
   "metadata": {},
   "source": [
    "## definition of two distributions (pdf is our P(x), sum of two gaussians while pdf0 is a simple gaussian our P'(x)) that are then used to modify the built in function _pdf of rv_continuous"
   ]
  },
  {
   "cell_type": "code",
   "execution_count": null,
   "metadata": {},
   "outputs": [],
   "source": [
    "def pdf(x):\n",
    "    \"\"\"A simple Gaussian Mixture Model\"\"\"\n",
    "    return 0.3*gaussian(x,-3,1)+0.7*gaussian(x,3,1)\n",
    "def pdf0(x):\n",
    "    \"\"\"A simple Gaussian\"\"\"\n",
    "    return gaussian(x,0,3)"
   ]
  },
  {
   "cell_type": "markdown",
   "metadata": {},
   "source": [
    "### Test pdf"
   ]
  },
  {
   "cell_type": "code",
   "execution_count": null,
   "metadata": {},
   "outputs": [],
   "source": [
    "quad(pdf0, -30,30)"
   ]
  },
  {
   "cell_type": "code",
   "execution_count": null,
   "metadata": {},
   "outputs": [],
   "source": [
    "x = np.linspace(-9,9,100)\n",
    "plt.plot(x,pdf(x));"
   ]
  },
  {
   "cell_type": "markdown",
   "metadata": {},
   "source": [
    "### Test pdf0"
   ]
  },
  {
   "cell_type": "code",
   "execution_count": null,
   "metadata": {},
   "outputs": [],
   "source": [
    "x = np.linspace(-9,9,100)\n",
    "plt.plot(x,pdf0(x));"
   ]
  },
  {
   "cell_type": "markdown",
   "metadata": {},
   "source": [
    "### rejection sampling (pdf(x) hardcoded inside)"
   ]
  },
  {
   "cell_type": "code",
   "execution_count": null,
   "metadata": {},
   "outputs": [],
   "source": [
    "max_pdf=0.3\n",
    "def rejection_sampling(n_samples,xmin,xmax):\n",
    "    \"\"\" Generate samples from a distribution that is the sum of two Gaussians using rejection sampling \"\"\"\n",
    "    samples = []\n",
    "    M = 1.5  # Adjust this scale factor as needed to cover the max of the distribution\n",
    "\n",
    "    while len(samples) < n_samples:\n",
    "        # Propose a sample from a uniform distribution covering the significant range of the Gaussians\n",
    "        x = random.uniform(xmin, xmax)\n",
    "        # Calculate the acceptance probability\n",
    "        u = random.uniform(0, M * max_pdf)\n",
    "        if u < pdf(x):\n",
    "            samples.append(x)\n",
    "    \n",
    "    return samples\n",
    "\n",
    "\n",
    "# Generate 1000 samples\n"
   ]
  },
  {
   "cell_type": "markdown",
   "metadata": {},
   "source": [
    "### random sampling with scipy"
   ]
  },
  {
   "cell_type": "code",
   "execution_count": null,
   "metadata": {},
   "outputs": [],
   "source": [
    "def random_samples(dist,npoints):\n",
    "    return np.asarray([ dist.rvs() for i in range(1,npoints) ])"
   ]
  },
  {
   "cell_type": "markdown",
   "metadata": {},
   "source": [
    "## we define the classes my_pdf and my_pdf0 as modifications to the standard pdf of rv_continuous"
   ]
  },
  {
   "cell_type": "code",
   "execution_count": null,
   "metadata": {},
   "outputs": [],
   "source": [
    "npoints=2000\n",
    "xmin=-12\n",
    "xmax=12\n",
    "class my_pdf(st.rv_continuous):\n",
    "    def _pdf(self,x):\n",
    "        return pdf(x)  # Normalized \n",
    "class my_pdf0(st.rv_continuous):\n",
    "    def _pdf(self,x):\n",
    "        return pdf0(x)  # Normalized     \n",
    "\n",
    "my_cv = my_pdf(a=xmin,b=xmax,name='my_pdf')\n",
    "my_cv0 = my_pdf0(a=xmin,b=xmax,name='my_pdf0')"
   ]
  },
  {
   "cell_type": "markdown",
   "metadata": {},
   "source": [
    "## \"samples\" and \"samples0\" are  sets of points randomly selected from $P(x)$ and $P'(x)$ respectively. \"rej_samples\" is generated with rejection sampling from $P(x)$. \"x_values\" is an array of $x$ values within -12 and 12"
   ]
  },
  {
   "cell_type": "code",
   "execution_count": null,
   "metadata": {},
   "outputs": [],
   "source": [
    "samples = my_cv.rvs(size=npoints)\n",
    "samples0 = my_cv0.rvs(size=npoints)\n",
    "rej_samples = rejection_sampling(npoints,xmin,xmax)\n",
    "x_values = np.linspace(xmin,xmax,npoints)"
   ]
  },
  {
   "cell_type": "code",
   "execution_count": null,
   "metadata": {},
   "outputs": [],
   "source": [
    "#plt.hist(samples,bins=200,density=True);\n",
    "y=np.zeros(len(samples))\n",
    "y1=y+0.1\n",
    "\n",
    "plt.scatter(samples,y,c='blue')\n",
    "plt.scatter(samples0,y1,c='red')\n",
    "plt.plot(x_values,pdf(x_values),c='blue')\n",
    "plt.plot(x_values,pdf0(x_values),c='red')"
   ]
  },
  {
   "cell_type": "code",
   "execution_count": null,
   "metadata": {},
   "outputs": [],
   "source": [
    "# Plotting the histogram\n",
    "plt.figure(figsize=(10, 6))\n",
    "plt.hist(samples, bins=50, color='blue',density=True, alpha=0.5, label='Histogram of samples')\n",
    "plt.title('Histogram of Samples')\n",
    "plt.hist(rej_samples, bins=50, color='red',density=True, alpha=0.7, label='Histogram of rej_samples')\n",
    "plt.title('Histogram of Samples')\n",
    "plt.xlabel('Sample value')\n",
    "plt.ylabel('Frequency')\n",
    "plt.legend()\n",
    "plt.show()"
   ]
  },
  {
   "cell_type": "markdown",
   "metadata": {},
   "source": [
    "## reconstruction of the distributions with a gaussian kernel (gaussian_kde) withough weights does not produce P(x) if we use sample0"
   ]
  },
  {
   "cell_type": "code",
   "execution_count": null,
   "metadata": {},
   "outputs": [],
   "source": [
    "kernel = st.gaussian_kde(samples)\n",
    "kernel0 = st.gaussian_kde(samples0)\n",
    "plt.plot(x_values,kernel(x_values),c='blue',lw=3)\n",
    "plt.plot(x_values,kernel0(x_values),c='red',lw=3)\n",
    "plt.plot(x_values,pdf(x_values),c='blue',lw=1)\n",
    "plt.plot(x_values,pdf0(x_values),c='red',lw=1)"
   ]
  },
  {
   "cell_type": "code",
   "execution_count": null,
   "metadata": {},
   "outputs": [],
   "source": [
    "quad(kernel, xmin, xmax)"
   ]
  },
  {
   "cell_type": "code",
   "execution_count": null,
   "metadata": {},
   "outputs": [],
   "source": [
    "np.trapz(kernel(x_values),x_values)"
   ]
  },
  {
   "cell_type": "code",
   "execution_count": null,
   "metadata": {},
   "outputs": [],
   "source": [
    "ws=np.ones((len(samples0)))\n",
    "kernel = st.gaussian_kde(samples)\n",
    "for i in range(len(samples0)):\n",
    "    ws[i]=pdf(samples0[i])/pdf0(samples0[i])\n",
    "    #ws=ws/np.sum(ws)\n",
    "kernel_w = st.gaussian_kde(samples0,weights=ws)\n",
    "plt.plot(x_values,kernel(x_values),c='blue',lw=4)\n",
    "plt.plot(x_values,kernel_w(x_values),c='red',lw=4)\n",
    "plt.plot(x_values,pdf(x_values),c='blue',lw=1)"
   ]
  },
  {
   "cell_type": "code",
   "execution_count": null,
   "metadata": {},
   "outputs": [],
   "source": [
    "def gaussian_kernel(x, bandwidth):\n",
    "    \"\"\" Gaussian kernel function \"\"\"\n",
    "    return (1.0 / (np.sqrt(2 * np.pi) * bandwidth)) * np.exp(-0.5 * (x / bandwidth) ** 2)\n",
    "\n",
    "def kde(x, data, bandwidth):\n",
    "    \"\"\" Compute KDE for each x using the Gaussian kernel \"\"\"\n",
    "    n = len(data)\n",
    "    return np.sum([gaussian_kernel((x - xi) , bandwidth) for xi in data]) / n\n",
    "\n",
    "\n",
    "# Calculate bandwidth \n",
    "std_dev = samples.std()\n",
    "silverman_bandwidth = 1.06 * std_dev * npoints ** (-1 / 5) \n",
    "scotts_bandwidth = npoints**(-1/5) * std_dev  # Simplified for univariate data\n",
    "\n",
    "\n",
    "# Compute KDE values\n",
    "kde_values = [kde(x, samples, scotts_bandwidth) for x in x_values]"
   ]
  },
  {
   "cell_type": "code",
   "execution_count": null,
   "metadata": {},
   "outputs": [],
   "source": [
    "plt.plot(x_values,np.array(kde_values),c='blue',lw=3)\n",
    "plt.plot(x_values,pdf(x_values),c='blue',lw=1)"
   ]
  },
  {
   "cell_type": "code",
   "execution_count": null,
   "metadata": {},
   "outputs": [],
   "source": [
    "quad(gaussian_kernel, xmin, xmax, args=(scotts_bandwidth))"
   ]
  },
  {
   "cell_type": "code",
   "execution_count": null,
   "metadata": {},
   "outputs": [],
   "source": [
    "np.trapz(np.array(kde_values),x_values)"
   ]
  },
  {
   "cell_type": "code",
   "execution_count": null,
   "metadata": {},
   "outputs": [],
   "source": []
  }
 ],
 "metadata": {
  "kernelspec": {
   "display_name": "Python 3 (ipykernel)",
   "language": "python",
   "name": "python3"
  },
  "language_info": {
   "codemirror_mode": {
    "name": "ipython",
    "version": 3
   },
   "file_extension": ".py",
   "mimetype": "text/x-python",
   "name": "python",
   "nbconvert_exporter": "python",
   "pygments_lexer": "ipython3",
   "version": "3.9.13"
  }
 },
 "nbformat": 4,
 "nbformat_minor": 4
}
