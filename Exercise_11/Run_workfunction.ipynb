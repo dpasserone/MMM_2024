{
 "cells": [
  {
   "cell_type": "code",
   "execution_count": null,
   "id": "bb0d0531",
   "metadata": {},
   "outputs": [],
   "source": [
    "%load_ext aiida\n",
    "%aiida"
   ]
  },
  {
   "cell_type": "code",
   "execution_count": null,
   "id": "9dc4ebb8",
   "metadata": {},
   "outputs": [],
   "source": [
    "from aiida import orm,engine"
   ]
  },
  {
   "cell_type": "markdown",
   "id": "074566a7",
   "metadata": {},
   "source": [
    "### Transfrom the following function into an AiiDA calcfunction"
   ]
  },
  {
   "cell_type": "code",
   "execution_count": null,
   "id": "09371689",
   "metadata": {},
   "outputs": [],
   "source": [
    "def join_i_str(num,string):\n",
    "    return orm.Str(str(num)+'_'+string.value)"
   ]
  },
  {
   "cell_type": "code",
   "execution_count": null,
   "id": "6bd1cef0",
   "metadata": {},
   "outputs": [],
   "source": [
    "join_i_str(34,'asa')"
   ]
  },
  {
   "cell_type": "markdown",
   "id": "de68604f",
   "metadata": {},
   "source": [
    "### Execute the workfunction \"myworkfunction\" "
   ]
  },
  {
   "cell_type": "code",
   "execution_count": null,
   "id": "5ee7cbb9",
   "metadata": {},
   "outputs": [],
   "source": [
    "from MyWorkfunction import myworkfunction"
   ]
  },
  {
   "cell_type": "code",
   "execution_count": null,
   "id": "95e6baca",
   "metadata": {},
   "outputs": [],
   "source": [
    "result = myworkfunction('/home/jovyan/Exercise_11/f1','/home/jovyan/Exercise_11/f2',33)"
   ]
  },
  {
   "cell_type": "code",
   "execution_count": null,
   "id": "f010a0a1",
   "metadata": {},
   "outputs": [],
   "source": [
    "result.value"
   ]
  }
 ],
 "metadata": {
  "kernelspec": {
   "display_name": "Python 3 (ipykernel)",
   "language": "python",
   "name": "python3"
  },
  "language_info": {
   "codemirror_mode": {
    "name": "ipython",
    "version": 3
   },
   "file_extension": ".py",
   "mimetype": "text/x-python",
   "name": "python",
   "nbconvert_exporter": "python",
   "pygments_lexer": "ipython3",
   "version": "3.9.13"
  }
 },
 "nbformat": 4,
 "nbformat_minor": 5
}
