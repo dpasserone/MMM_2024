{
 "cells": [
  {
   "cell_type": "code",
   "execution_count": null,
   "id": "6d14c017",
   "metadata": {},
   "outputs": [],
   "source": [
    "%load_ext aiida\n",
    "%aiida"
   ]
  },
  {
   "cell_type": "code",
   "execution_count": null,
   "id": "bf5b9e0b",
   "metadata": {},
   "outputs": [],
   "source": [
    "import datetime\n",
    "import ipywidgets as ipw\n",
    "from aiida import common, orm\n",
    "from IPython.display import clear_output"
   ]
  },
  {
   "cell_type": "code",
   "execution_count": null,
   "id": "794f9232",
   "metadata": {},
   "outputs": [],
   "source": [
    "## Search with QB StructureData nodes.\n",
    "#qb = orm.QueryBuilder()\n",
    "#qb.append(orm.StructureData)\n",
    "#qb.order_by({orm.StructureData: {\"ctime\": \"desc\"}})\n",
    "\n",
    "#for node in qb.all(flat=True):\n",
    "#    print(node.pk,node.ctime,node.mtime)"
   ]
  }
 ],
 "metadata": {
  "kernelspec": {
   "display_name": "Python 3 (ipykernel)",
   "language": "python",
   "name": "python3"
  },
  "language_info": {
   "codemirror_mode": {
    "name": "ipython",
    "version": 3
   },
   "file_extension": ".py",
   "mimetype": "text/x-python",
   "name": "python",
   "nbconvert_exporter": "python",
   "pygments_lexer": "ipython3",
   "version": "3.9.13"
  }
 },
 "nbformat": 4,
 "nbformat_minor": 5
}
