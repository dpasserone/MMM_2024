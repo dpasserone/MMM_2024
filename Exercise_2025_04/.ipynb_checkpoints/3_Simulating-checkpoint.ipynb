{
 "cells": [
  {
   "cell_type": "markdown",
   "id": "b1fddea9",
   "metadata": {},
   "source": [
    "# PART 3/3: SIMULATING SPECIFIC MOLECULES\n",
    "# MMM 2024 - 12.3.2025\n",
    "## Daniele Passerone\n",
    "\n",
    "\n",
    "The molecules you will explore today are:\n",
    "\n",
    "1. C2H2 (acetylene)\n",
    "2. H2 (hydrogen molecule)\n",
    "3. CH4 (methane)\n",
    "4. O2 (triplet oxygen)\n",
    "5. hexatriene (C6H8)\n",
    "6. Benzene (C6H6)"
   ]
  },
  {
   "cell_type": "markdown",
   "id": "e66dbcf0",
   "metadata": {},
   "source": [
    "## Prerequisites\n",
    "\n",
    "We assume that you already have learned how to run a geo opt workchain as well as an STM/Orbitals run. \n",
    "You will have to run them for the molecules listed above, for each of them changing slightly the parameters (for example, number of filled orbitals).\n",
    "For the analysis of the simulations, you will need to keep track of the pk of the simulation, pk of the trajectory and so on, as explained in the notebook 2/3.\n"
   ]
  },
  {
   "cell_type": "code",
   "execution_count": 1,
   "id": "8a71305b",
   "metadata": {},
   "outputs": [
    {
     "data": {
      "application/vnd.jupyter.widget-view+json": {
       "model_id": "d5277d7e651241f793142ad195c97c87",
       "version_major": 2,
       "version_minor": 0
      },
      "text/plain": []
     },
     "metadata": {},
     "output_type": "display_data"
    }
   ],
   "source": [
    "#\n",
    "# some important Imports...\n",
    "#\n",
    "import numpy as np\n",
    "from ase import Atoms\n",
    "from ase.io import read\n",
    "from ase.visualize import view\n",
    "import matplotlib.pyplot as plt\n",
    "import nglview as nv\n",
    "from show_orbitals import show_orbitals\n",
    "\n",
    "#\n",
    "# and definitions of visualization functions (see last exercises)\n",
    "#\n",
    "def view_structure(structure,myvec=[]):\n",
    "    t = nv.ASEStructure(structure)\n",
    "    w = nv.NGLWidget(t, gui=True)\n",
    "    w.add_unitcell()\n",
    "    w.add_ball_and_stick()\n",
    "    w.add_representation('label',label_type='atomindex',color='black')\n",
    "    w.add_representation('spacefill',selection=myvec,color=\"blue\",radius=0.5)\n",
    "    return w\n",
    "\n",
    "def view_trajectory(trajectory,myvec=[]):\n",
    "    t2 = nv.ASETrajectory(trajectory)\n",
    "    w2 = nv.NGLWidget(t2, gui=True)\n",
    "    #w2.add_unitcell()\n",
    "    w2.add_ball_and_stick()\n",
    "    w2.add_representation('spacefill',selection=myvec,color=\"blue\",radius=0.5)\n",
    "    return w2"
   ]
  },
  {
   "cell_type": "markdown",
   "id": "0d9dacc2",
   "metadata": {},
   "source": [
    "## 0. Example with the acetylene molecule\n",
    "\n",
    "The following assumes that you have run the **geo opt** of C2H2 as well as the **SCANNING PROBE MICROSCOPY/ORBITALS** run. The other molecule can be faced in a similar way."
   ]
  },
  {
   "cell_type": "markdown",
   "id": "75c77d6c",
   "metadata": {},
   "source": [
    "## 1. Visualizing the optimization trajectory \n",
    "As shown in the **Notebook 2** you need the pk of the optimization trajectory, that you will insert in the next cell as value of **trajpk**."
   ]
  },
  {
   "cell_type": "code",
   "execution_count": 2,
   "id": "636edc16",
   "metadata": {},
   "outputs": [
    {
     "name": "stdout",
     "output_type": "stream",
     "text": [
      "The PK of the TrajectoryData is: 719\n"
     ]
    }
   ],
   "source": [
    "\n",
    "%load_ext aiida\n",
    "%aiida\n",
    "\n",
    "from aiida.orm import load_node\n",
    "\n",
    "my_geo_opt_pk = 703\n",
    "workchain = load_node(my_geo_opt_pk)\n",
    "\n",
    "# Access the TrajectoryData node\n",
    "trajectory_data = workchain.outputs.output_trajectory  \n",
    "trajectory_pk = trajectory_data.pk\n",
    "\n",
    "print(f\"The PK of the TrajectoryData is: {trajectory_pk}\")\n",
    "\n",
    "trajectory_c2h2 = trajectory_pk\n",
    "trajpk = trajectory_c2h2\n",
    "traj = load_node(trajpk)\n",
    "symbols = traj.symbols\n",
    "trajase=[traj.get_step_structure(step-1).get_ase() for step in traj.get_stepids()]\n",
    "for a in trajase:\n",
    "    a.set_pbc([False,False,False])"
   ]
  },
  {
   "cell_type": "code",
   "execution_count": 3,
   "id": "c3eed087",
   "metadata": {
    "scrolled": true
   },
   "outputs": [
    {
     "data": {
      "application/vnd.jupyter.widget-view+json": {
       "model_id": "b1fb82cd5bb3494ab5d4d6a15ab41929",
       "version_major": 2,
       "version_minor": 0
      },
      "text/plain": [
       "NGLWidget(max_frame=3)"
      ]
     },
     "metadata": {},
     "output_type": "display_data"
    },
    {
     "data": {
      "application/vnd.jupyter.widget-view+json": {
       "model_id": "1e6b331dcf20466f9aea7794c8081841",
       "version_major": 2,
       "version_minor": 0
      },
      "text/plain": [
       "Tab(children=(Box(children=(Box(children=(Box(children=(Label(value='step'), IntSlider(value=1, min=-100)), la…"
      ]
     },
     "metadata": {},
     "output_type": "display_data"
    }
   ],
   "source": [
    "view_trajectory(trajase)\n",
    "\n",
    "#\n",
    "# The optimization trajectory is shown.\n",
    "#"
   ]
  },
  {
   "cell_type": "code",
   "execution_count": null,
   "id": "5a57d78f",
   "metadata": {},
   "outputs": [],
   "source": []
  },
  {
   "cell_type": "markdown",
   "id": "ca013234",
   "metadata": {},
   "source": [
    "## 2. Visualizing the orbitals\n",
    "Now we compute the orbitals. To this end we have already finished (see **Notebook 2**) the simulation of the orbitals, and hit the \"Cube creation kit\" button. Keep the **pk** of the SPM calculation ready.\n",
    "\n",
    "In the Exercise_5 directory, there is a script \"run_cube_from_wfn_acetylene.sh\" that is able to take some files from the cp2k SPM simulation (wavefunction) and transform it into the orbital cube files. The important things in this file is the number of occupied and unoccupied orbitals, that should correspond to the ones that you have indicated when launching the SPM AiiDAlab workchain. In the case of acetylene, 10 electrons, 5 occupied orbitals."
   ]
  },
  {
   "cell_type": "code",
   "execution_count": 4,
   "id": "f38ce831",
   "metadata": {},
   "outputs": [
    {
     "name": "stdout",
     "output_type": "stream",
     "text": [
      "#!/bin/bash -l\r\n",
      "\r\n",
      "DIR=\"./\"\r\n",
      "\r\n",
      "mkdir cubes\r\n",
      "\r\n",
      "/home/jovyan/soft/cp2k-spm-tools/cube_from_wfn.py \\\r\n",
      "  --cp2k_input_file $DIR/aiida.inp \\\r\n",
      "  --basis_set_file BASIS_MOLOPT \\\r\n",
      "  --xyz_file $DIR/aiida.coords.xyz \\\r\n",
      "  --wfn_file $DIR/aiida-RESTART.wfn \\\r\n",
      "  --output_dir ./cubes/ \\\r\n",
      "  --n_homo 5 \\\r\n",
      "  --n_lumo 5 \\\r\n",
      "  --dx 0.2 \\\r\n",
      "  --eval_cutoff 14.0 \\\r\n",
      "\r\n"
     ]
    }
   ],
   "source": [
    "!cat run_cube_from_wfn_acetylene.sh"
   ]
  },
  {
   "cell_type": "markdown",
   "id": "25d79abe",
   "metadata": {},
   "source": [
    "## Generating the cubefiles, using the \"cube-kit\" set of files and the above script. \n",
    "Now we are ready to generate the orbital cube files. We replace my_pk below **with the pk of the SPM workchain**, and also the molecule name has to correspond."
   ]
  },
  {
   "cell_type": "code",
   "execution_count": 105,
   "id": "8db88194",
   "metadata": {},
   "outputs": [
    {
     "name": "stdout",
     "output_type": "stream",
     "text": [
      "Archive:  cube-kit-pk723.zip\n",
      "  inflating: cube-kit-pk723/BASIS_MOLOPT  \n",
      "  inflating: cube-kit-pk723/aiida.inp  \n",
      "  inflating: cube-kit-pk723/aiida.out  \n",
      "  inflating: cube-kit-pk723/aiida.coords.xyz  \n",
      "  inflating: cube-kit-pk723/aiida-RESTART.wfn  \n",
      "R0/1, loading indexes (s0/1) 3:8 / 3:8\n",
      "eval_cell_n:  [62 60 54]\n",
      "loc_cell_n:  [70 71 70]\n",
      "---- Setup: 0.0028\n",
      "---- Radial calc time : 0.321570\n",
      "---- Spherical calc time : 0.015560\n",
      "---- Loc -> loc_morb time : 0.055290\n",
      "---- loc_morb -> glob time : 0.020311\n",
      "---- Total time: 0.4338\n",
      "R0/1 is writing HOMO-2 cube\n",
      "R0/1 is writing HOMO-1 cube\n",
      "R0/1 is writing HOMO+0 cube\n",
      "R0/1 is writing HOMO+1 cube\n",
      "R0/1 is writing HOMO+2 cube\n",
      "R0/1 is writing HOMO+3 cube\n",
      "R0/1: finished, total time: 0.80s\n",
      "*****************************\n",
      "\n",
      "THE GENERATED FILES ARE:\n",
      "\n",
      "S0_4_HOMO-2.cube  S0_6_HOMO.cube  S0_8_LUMO+1.cube\n",
      "S0_5_HOMO-1.cube  S0_7_LUMO.cube  S0_9_LUMO+2.cube\n",
      "\n",
      "*****************************\n",
      "\n"
     ]
    }
   ],
   "source": [
    "#\n",
    "# Creating the cube file of the orbitals\n",
    "# \n",
    "my_pk = 723\n",
    "molecule = 'c2h2'\n",
    "!rm -Rf ./cube-kit-pk{my_pk}*\n",
    "!cp /home/jovyan/apps/surfaces/tmp/cube-kit-pk{my_pk}.zip .\n",
    "!unzip cube-kit-pk{my_pk}.zip\n",
    "!cp run_cube_from_wfn_{molecule}.sh ./cube-kit-pk{my_pk}\n",
    "!cd ./cube-kit-pk{my_pk} ; bash run_cube_from_wfn_{molecule}.sh \n",
    "!rm -Rf {molecule}_cubes\n",
    "!mv ./cube-kit-pk{my_pk}/cubes {molecule}_cubes\n",
    "\n",
    "print (\"*****************************\\n\\nTHE GENERATED FILES ARE:\\n\")\n",
    "!ls ./{molecule}_cubes\n",
    "print (\"\\n*****************************\\n\")"
   ]
  },
  {
   "cell_type": "markdown",
   "id": "a4ae8d8d",
   "metadata": {},
   "source": [
    "## Visualizing HOMO and LUMO separately\n",
    "\n",
    "\n",
    "We note that the name of the HOMO file above, we copy it into \"file\" and we read the cube file and its energy (change the name of the file accordingly)"
   ]
  },
  {
   "cell_type": "code",
   "execution_count": 109,
   "id": "c45b93f3",
   "metadata": {},
   "outputs": [
    {
     "name": "stdout",
     "output_type": "stream",
     "text": [
      "HOMO: E=-2.884734 eV\n"
     ]
    },
    {
     "data": {
      "application/vnd.jupyter.widget-view+json": {
       "model_id": "d9981044f8b240b181fe0dd3abe9e8aa",
       "version_major": 2,
       "version_minor": 0
      },
      "text/plain": [
       "NGLWidget()"
      ]
     },
     "metadata": {},
     "output_type": "display_data"
    }
   ],
   "source": [
    "file = molecule + '_cubes/S0_6_HOMO.cube'\n",
    "atoms = read(file)\n",
    "a=!head -2 {file} | tail -1\n",
    "b = str(a)\n",
    "ene=(b[4:13])\n",
    "view_homo=nv.NGLWidget()\n",
    "caption_homo = \"HOMO: E=\"+ene+\" eV\"\n",
    "view_homo.add_component(nv.ASEStructure(atoms))\n",
    "c_2 = view_homo.add_component(file)\n",
    "c_2.clear()\n",
    "c_2.add_surface(color='blue', isolevelType=\"value\", isolevel=-0.01, opacity=0.05)\n",
    "c_3 = view_homo.add_component(file)\n",
    "c_3.clear()\n",
    "c_3.add_surface(color='red', isolevelType=\"value\", isolevel=0.01, opacity=0.05)\n",
    "\n",
    "\n",
    "#\n",
    "# And finally the visualization itself\n",
    "#\n",
    "\n",
    "print (caption_homo)\n",
    "view_homo"
   ]
  },
  {
   "cell_type": "markdown",
   "id": "cf49e7d7",
   "metadata": {},
   "source": [
    "We do the same for the LUMO, we simply need to change the name of the file."
   ]
  },
  {
   "cell_type": "code",
   "execution_count": 110,
   "id": "3c9a2dd8",
   "metadata": {
    "scrolled": true
   },
   "outputs": [
    {
     "name": "stdout",
     "output_type": "stream",
     "text": [
      "LUMO: E=2.8847341 eV\n"
     ]
    },
    {
     "data": {
      "application/vnd.jupyter.widget-view+json": {
       "model_id": "b49f9e6a7c1d4cd3817f3c7b938cdc96",
       "version_major": 2,
       "version_minor": 0
      },
      "text/plain": [
       "NGLWidget()"
      ]
     },
     "metadata": {},
     "output_type": "display_data"
    }
   ],
   "source": [
    "file = molecule + '_cubes/S0_7_LUMO.cube'\n",
    "atoms = read(file)\n",
    "a=!head -2 {file} | tail -1\n",
    "b = str(a)\n",
    "ene=(b[4:13])\n",
    "view_lumo=nv.NGLWidget()\n",
    "caption_lumo = \"LUMO: E=\"+ene+\" eV\"\n",
    "view_lumo.add_component(nv.ASEStructure(atoms))\n",
    "c_2 = view_lumo.add_component(file)\n",
    "c_2.clear()\n",
    "c_2.add_surface(color='blue', isolevelType=\"value\", isolevel=-0.01, opacity=0.05)\n",
    "c_3 = view_lumo.add_component(file)\n",
    "c_3.clear()\n",
    "c_3.add_surface(color='red', isolevelType=\"value\", isolevel=0.01, opacity=0.05)\n",
    "\n",
    "\n",
    "#\n",
    "# And finally the visualization itself\n",
    "#\n",
    "print (caption_lumo)\n",
    "view_lumo"
   ]
  },
  {
   "cell_type": "markdown",
   "id": "51618c94",
   "metadata": {},
   "source": [
    "We now create a combined view that visualizes orbital and energy:"
   ]
  },
  {
   "cell_type": "code",
   "execution_count": 111,
   "id": "af3d95de",
   "metadata": {},
   "outputs": [],
   "source": [
    "import ipywidgets as widgets\n",
    "widg_caption_homo = widgets.HTML(caption_homo)\n",
    "combined_w_homo=widgets.HBox([view_homo,widg_caption_homo])\n",
    "\n",
    "widg_caption_lumo = widgets.HTML(caption_lumo)\n",
    "combined_w_lumo=widgets.HBox([view_lumo,widg_caption_lumo])\n"
   ]
  },
  {
   "cell_type": "code",
   "execution_count": 112,
   "id": "9781e7e9",
   "metadata": {},
   "outputs": [
    {
     "data": {
      "application/vnd.jupyter.widget-view+json": {
       "model_id": "2eddb536355442a69d8bf2f0c2dbc8ee",
       "version_major": 2,
       "version_minor": 0
      },
      "text/plain": [
       "HBox(children=(NGLWidget(n_components=3), HTML(value='HOMO: E=-2.884734 eV')))"
      ]
     },
     "metadata": {},
     "output_type": "display_data"
    }
   ],
   "source": [
    "combined_w_homo"
   ]
  },
  {
   "cell_type": "code",
   "execution_count": 113,
   "id": "bd46ba01",
   "metadata": {},
   "outputs": [
    {
     "data": {
      "application/vnd.jupyter.widget-view+json": {
       "model_id": "f0e4083745f6494391e154d40f5cce78",
       "version_major": 2,
       "version_minor": 0
      },
      "text/plain": [
       "HBox(children=(NGLWidget(n_components=3), HTML(value='LUMO: E=2.8847341 eV')))"
      ]
     },
     "metadata": {},
     "output_type": "display_data"
    }
   ],
   "source": [
    "combined_w_lumo"
   ]
  },
  {
   "cell_type": "markdown",
   "id": "23cb8ce5",
   "metadata": {},
   "source": [
    "## Visualizing all orbitals together\n",
    "\n",
    "We will use a loop and arrays to caption all orbitals and plot a matrix of representations: see the file **show_orbitals.py** "
   ]
  },
  {
   "cell_type": "markdown",
   "id": "0f47b7c3",
   "metadata": {},
   "source": [
    "## Including the MATRIX VISUALIZATION OF ALL ORBITALS into a function\n",
    "\n",
    "The function allows to choose the isosurface, and the first orbital to visualize in the array, as well as the last one. Note that for larger molecules (benzene) you better choose a few orbitals at the time, not to \"kill\" your jupyter.\n",
    "\n"
   ]
  },
  {
   "cell_type": "code",
   "execution_count": 31,
   "id": "ccc4fd4b",
   "metadata": {},
   "outputs": [],
   "source": [
    "import show_orbitals"
   ]
  },
  {
   "cell_type": "code",
   "execution_count": 116,
   "id": "64f04e51",
   "metadata": {},
   "outputs": [
    {
     "name": "stdout",
     "output_type": "stream",
     "text": [
      "/home/jovyan/MMM_2025/Exercise_04\n",
      "Show Orbitals Version n.  4 ntotocc =  6\n",
      "Archive:  ./cube-kit-pk723.zip\n",
      "  inflating: cube-kit-pk723/BASIS_MOLOPT  \n",
      "  inflating: cube-kit-pk723/aiida.inp  \n",
      "  inflating: cube-kit-pk723/aiida.out  \n",
      "  inflating: cube-kit-pk723/aiida.coords.xyz  \n",
      "  inflating: cube-kit-pk723/aiida-RESTART.wfn  \n",
      "R0/1, loading indexes (s0/1) 3:8 / 3:8\n",
      "eval_cell_n:  [62 60 54]\n",
      "loc_cell_n:  [70 71 70]\n",
      "---- Setup: 0.0099\n",
      "---- Radial calc time : 0.328351\n",
      "---- Spherical calc time : 0.015198\n",
      "---- Loc -> loc_morb time : 0.055920\n",
      "---- loc_morb -> glob time : 0.027237\n",
      "---- Total time: 0.4524\n",
      "R0/1 is writing HOMO-2 cube\n",
      "R0/1 is writing HOMO-1 cube\n",
      "R0/1 is writing HOMO+0 cube\n",
      "R0/1 is writing HOMO+1 cube\n",
      "R0/1 is writing HOMO+2 cube\n",
      "R0/1 is writing HOMO+3 cube\n",
      "R0/1: finished, total time: 0.82s\n",
      "S0_4_HOMO-2.cube\n",
      "S0_5_HOMO-1.cube\n",
      "S0_6_HOMO.cube\n",
      "S0_7_LUMO.cube\n",
      "S0_8_LUMO+1.cube\n",
      "S0_9_LUMO+2.cube\n",
      "Filename:  c2h2_cubes/S0_6_HOMO.cube\n",
      "Energy =  -2.88473\n",
      "Filename:  c2h2_cubes/S0_7_LUMO.cube\n",
      "Energy =  2.884734\n",
      "Filename:  c2h2_cubes/S0_8_LUMO+1.cube\n",
      "Energy =  5.711335\n",
      "Filename:  c2h2_cubes/S0_9_LUMO+2.cube\n",
      "Energy =  5.790760\n"
     ]
    }
   ],
   "source": [
    "#\n",
    "# In this way, the molecule can be visualized with a call to the function followed by a call of the molecule itself\n",
    "# See, in the Exercise directory, the file show_orbitals.py. Don't forget the total number of occupied orbitals (for naming)\n",
    "#\n",
    "!pwd\n",
    "import importlib\n",
    "importlib.reload(show_orbitals)\n",
    "c2h2 = show_orbitals.all_orbitals(molecule,pk=my_pk,nhomo=1,nlumo=3,ntotocc=6,nfirstview=0,nlastview=9,isosurf=0.01);\n"
   ]
  },
  {
   "cell_type": "code",
   "execution_count": 117,
   "id": "9635207a",
   "metadata": {
    "scrolled": false
   },
   "outputs": [
    {
     "data": {
      "application/vnd.jupyter.widget-view+json": {
       "model_id": "632bf9c6c8d04b7fbd4f925b374005d2",
       "version_major": 2,
       "version_minor": 0
      },
      "text/plain": [
       "VBox(children=(HBox(children=(NGLWidget(), HTML(value=' E= -2.88473 eV\\nHOMO'))), HBox(children=(NGLWidget(), …"
      ]
     },
     "metadata": {},
     "output_type": "display_data"
    }
   ],
   "source": [
    "c2h2"
   ]
  },
  {
   "cell_type": "code",
   "execution_count": 92,
   "id": "d03ebb65",
   "metadata": {},
   "outputs": [
    {
     "name": "stdout",
     "output_type": "stream",
     "text": [
      "label: 'stm'\n",
      "\n"
     ]
    }
   ],
   "source": [
    "file = 'stm.yml'\n",
    "\n",
    "file1 = open(\"stm.yml\")\n",
    "array = file1.readlines()\n",
    "print(array [0])\n"
   ]
  },
  {
   "cell_type": "code",
   "execution_count": null,
   "id": "5e0abcd9",
   "metadata": {},
   "outputs": [],
   "source": [
    "#\n",
    "# Visualizing the orbitals of acetylene:\n",
    "#\n",
    "acetylene"
   ]
  },
  {
   "cell_type": "code",
   "execution_count": null,
   "id": "b4a044e4",
   "metadata": {},
   "outputs": [],
   "source": [
    "#"
   ]
  },
  {
   "cell_type": "markdown",
   "id": "3c6f3eee",
   "metadata": {},
   "source": [
    "## Now you are ready to generalize the exercise to the following molecules:\n",
    "\n",
    "- H2\n",
    "- CH4 (Methane)\n",
    "- O2 (triplet state)\n",
    "- Hexatriene\n",
    "- Benzene \n",
    "\n",
    "### Note: for O2, you need a SPIN POLARIZED calculation (check the UKS option) with multiplicity 3 (also in the Orbital calculation)\n",
    "\n",
    "\n",
    "You will get two sets of cube files, work only with the \"S0\" ones (spin up). Also, use n_homo 7 and n_lumo 5\n",
    "\n",
    "### For Hexatriene vs. Benzene see the following [link](https://www.masterorganicchemistry.com/2017/05/05/the-pi-molecular-orbitals-of-benzene/)\n",
    "\n"
   ]
  },
  {
   "cell_type": "markdown",
   "id": "c7512c2b",
   "metadata": {},
   "source": [
    "# Assignments\n",
    "\n",
    "1. For each molecule, draw a molecular orbital table filling the orbitals up to the correct level.\n",
    "2. Discuss the difference between the H2 and O2 molecule.\n",
    "3. Discuss the differences between the CH4 and CH2  and C6H6  molecules (hybridisation?)\n",
    "4. Follow the discussion that you find in the link, and compare with your result. Discuss the differences you find between Hexatriene and Benzene\n",
    "5. Which molecule has the largest Band Gap?\n",
    "6. Apply a deformation to benzene and optimize again. Show the trajectory of the optimization. "
   ]
  }
 ],
 "metadata": {
  "kernelspec": {
   "display_name": "Python 3 (ipykernel)",
   "language": "python",
   "name": "python3"
  },
  "language_info": {
   "codemirror_mode": {
    "name": "ipython",
    "version": 3
   },
   "file_extension": ".py",
   "mimetype": "text/x-python",
   "name": "python",
   "nbconvert_exporter": "python",
   "pygments_lexer": "ipython3",
   "version": "3.9.13"
  }
 },
 "nbformat": 4,
 "nbformat_minor": 5
}
