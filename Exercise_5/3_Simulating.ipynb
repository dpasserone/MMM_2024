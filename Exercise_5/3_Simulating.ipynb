{
 "cells": [
  {
   "cell_type": "markdown",
   "id": "b1fddea9",
   "metadata": {},
   "source": [
    "# PART 3/3: SIMULATING SPECIFIC MOLECULES\n",
    "# MMM 2024 - 20.3.2024\n",
    "## Daniele Passerone\n",
    "\n",
    "\n",
    "The molecules you will explore today are:\n",
    "\n",
    "1. C2H2 (acetylene)\n",
    "2. CH4 (methane)\n",
    "3. O2 (triplet oxygen)\n",
    "4. hexatriene (C6H8)\n",
    "5. Benzene (C6H6)"
   ]
  },
  {
   "cell_type": "markdown",
   "id": "e66dbcf0",
   "metadata": {},
   "source": [
    "## Prerequisites\n",
    "\n",
    "We assume that you already have learned how to run a geo opt workchain as well as an STM/Orbitals run. \n",
    "You will have to run them for the molecules listed above, for each of them changing slightly the parameters (for example, number of filled orbitals).\n",
    "For the analysis of the simulations, you will need to keep track of the pk of the simulation, pk of the trajectory and so on, as explained in the notebook 2/3.\n"
   ]
  },
  {
   "cell_type": "code",
   "execution_count": null,
   "id": "8a71305b",
   "metadata": {},
   "outputs": [],
   "source": [
    "#\n",
    "# some important Imports...\n",
    "#\n",
    "import numpy as np\n",
    "from ase import Atoms\n",
    "from ase.io import read\n",
    "from ase.visualize import view\n",
    "import matplotlib.pyplot as plt\n",
    "import nglview as nv\n",
    "\n",
    "#\n",
    "# and definitions of visualization functions (see last exercises)\n",
    "#\n",
    "def view_structure(structure,myvec=[]):\n",
    "    t = nv.ASEStructure(structure)\n",
    "    w = nv.NGLWidget(t, gui=True)\n",
    "    w.add_unitcell()\n",
    "    w.add_ball_and_stick()\n",
    "    w.add_representation('label',label_type='atomindex',color='black')\n",
    "    w.add_representation('spacefill',selection=myvec,color=\"blue\",radius=0.5)\n",
    "    return w\n",
    "\n",
    "def view_trajectory(trajectory,myvec=[]):\n",
    "    t2 = nv.ASETrajectory(trajectory)\n",
    "    w2 = nv.NGLWidget(t2, gui=True)\n",
    "    #w2.add_unitcell()\n",
    "    w2.add_ball_and_stick()\n",
    "    w2.add_representation('spacefill',selection=myvec,color=\"blue\",radius=0.5)\n",
    "    return w2"
   ]
  },
  {
   "cell_type": "markdown",
   "id": "0d9dacc2",
   "metadata": {},
   "source": [
    "## 0. Example with the acetylene molecule\n",
    "\n",
    "The following assumes that you have run the **geo opt** of C2H2 as well as the **SCANNING PROBE MICROSCOPY/ORBITALS** run. The other molecule can be faced in a similar way."
   ]
  },
  {
   "cell_type": "markdown",
   "id": "75c77d6c",
   "metadata": {},
   "source": [
    "## 1. Visualizing the optimization trajectory \n",
    "As shown in the **Notebook 2** you need the pk of the optimization trajectory, that you will insert in the next cell as value of **trajpk**."
   ]
  },
  {
   "cell_type": "code",
   "execution_count": null,
   "id": "636edc16",
   "metadata": {},
   "outputs": [],
   "source": [
    "\n",
    "%load_ext aiida\n",
    "%aiida\n",
    "\n",
    "trajpk = 129\n",
    "traj = load_node(trajpk)\n",
    "symbols = traj.symbols\n",
    "trajase=[traj.get_step_structure(step-1).get_ase() for step in traj.get_stepids()]\n",
    "for a in trajase:\n",
    "    a.set_pbc([False,False,False])"
   ]
  },
  {
   "cell_type": "code",
   "execution_count": null,
   "id": "c3eed087",
   "metadata": {
    "scrolled": true
   },
   "outputs": [],
   "source": [
    "view_trajectory(trajase)\n",
    "\n",
    "#\n",
    "# The optimization trajectory is shown.\n",
    "#"
   ]
  },
  {
   "cell_type": "code",
   "execution_count": null,
   "id": "5a57d78f",
   "metadata": {},
   "outputs": [],
   "source": []
  },
  {
   "attachments": {},
   "cell_type": "markdown",
   "id": "ca013234",
   "metadata": {},
   "source": [
    "## 2. Visualizing the orbitals\n",
    "Now we compute the orbitals. To this end we have already finished (see **Notebook 2**) the simulation of the orbitals, and hit the \"Cube creation kit\" button. Keep the **pk** of the SPM calculation ready.\n",
    "\n",
    "In the Exercise_5 directory, there is a script \"run_cube_from_wfn_acetylene.sh\" that is able to take some files from the cp2k SPM simulation (wavefunction) and transform it into the orbital cube files. The important things in this file is the number of occupied and unoccupied orbitals, that should correspond to the ones that you have indicated when launching the SPM AiiDAlab workchain. In the case of acetylene, 10 electrons, 5 occupied orbitals."
   ]
  },
  {
   "cell_type": "code",
   "execution_count": null,
   "id": "f38ce831",
   "metadata": {},
   "outputs": [],
   "source": [
    "!cat run_cube_from_wfn_acetylene.sh"
   ]
  },
  {
   "cell_type": "markdown",
   "id": "25d79abe",
   "metadata": {},
   "source": [
    "## Generating the cubefiles, using the \"cube-kit\" set of files and the above script. \n",
    "Now we are ready to generate the orbital cube files. We replace my_pk below **with the pk of the SPM workchain**"
   ]
  },
  {
   "cell_type": "code",
   "execution_count": null,
   "id": "8db88194",
   "metadata": {},
   "outputs": [],
   "source": [
    "#\n",
    "# Creating the cube file of the orbitals\n",
    "# \n",
    "my_pk = 133\n",
    "!rm -Rf ./cube-kit-pk{my_pk}*\n",
    "!cp /home/jovyan/apps/surfaces/tmp/cube-kit-pk{my_pk}.zip .\n",
    "!unzip cube-kit-pk{my_pk}.zip\n",
    "!cp run_cube_from_wfn_acetylene.sh ./cube-kit-pk{my_pk}\n",
    "!cd ./cube-kit-pk{my_pk} ; bash run_cube_from_wfn_acetylene.sh \n",
    "\n",
    "print (\"*****************************\\n\\nTHE GENERATED FILES ARE:\\n\")\n",
    "!ls ./cube-kit-pk{my_pk}/cubes/*cube\n",
    "print (\"\\n*****************************\\n\")"
   ]
  },
  {
   "cell_type": "markdown",
   "id": "a4ae8d8d",
   "metadata": {},
   "source": [
    "## Visualizing HOMO and LUMO separately\n",
    "\n",
    "\n",
    "We note that the name of the HOMO file above, we copy it into \"file\" and we read the cube file and its energy."
   ]
  },
  {
   "cell_type": "code",
   "execution_count": null,
   "id": "c45b93f3",
   "metadata": {},
   "outputs": [],
   "source": [
    "file = './cube-kit-pk133/cubes/S0_5_HOMO.cube'\n",
    "atoms = read(file)\n",
    "a=!head -2 {file} | tail -1\n",
    "b = str(a)\n",
    "ene=(b[4:13])\n",
    "view_homo=nv.NGLWidget()\n",
    "caption_homo = \"HOMO: E= \"+ene+\" eV\"\n",
    "view_homo.add_component(nv.ASEStructure(atoms))\n",
    "c_2 = view_homo.add_component(file)\n",
    "c_2.clear()\n",
    "c_2.add_surface(color='blue', isolevelType=\"value\", isolevel=-0.01, opacity=0.05)\n",
    "c_3 = view_homo.add_component(file)\n",
    "c_3.clear()\n",
    "c_3.add_surface(color='red', isolevelType=\"value\", isolevel=0.01, opacity=0.05)\n",
    "\n",
    "\n",
    "#\n",
    "# And finally the visualization itself\n",
    "#\n",
    "\n",
    "print (caption_homo)\n",
    "view_homo"
   ]
  },
  {
   "cell_type": "markdown",
   "id": "cf49e7d7",
   "metadata": {},
   "source": [
    "We do the same for the LUMO, we simply need to change the name of the file."
   ]
  },
  {
   "cell_type": "code",
   "execution_count": null,
   "id": "3c9a2dd8",
   "metadata": {
    "scrolled": true
   },
   "outputs": [],
   "source": [
    "file = './cube-kit-pk133/cubes/S0_6_LUMO.cube'\n",
    "atoms = read(file)\n",
    "a=!head -2 {file} | tail -1\n",
    "b = str(a)\n",
    "ene=(b[4:13])\n",
    "view_lumo=nv.NGLWidget()\n",
    "caption_lumo = \"LUMO: E= \"+ene+\" eV\"\n",
    "view_lumo.add_component(nv.ASEStructure(atoms))\n",
    "c_2 = view_lumo.add_component(file)\n",
    "c_2.clear()\n",
    "c_2.add_surface(color='blue', isolevelType=\"value\", isolevel=-0.01, opacity=0.05)\n",
    "c_3 = view_lumo.add_component(file)\n",
    "c_3.clear()\n",
    "c_3.add_surface(color='red', isolevelType=\"value\", isolevel=0.01, opacity=0.05)\n",
    "\n",
    "\n",
    "#\n",
    "# And finally the visualization itself\n",
    "#\n",
    "print (caption_lumo)\n",
    "view_lumo"
   ]
  },
  {
   "cell_type": "markdown",
   "id": "51618c94",
   "metadata": {},
   "source": [
    "We now create a combined view that visualizes orbital and energy:"
   ]
  },
  {
   "cell_type": "code",
   "execution_count": null,
   "id": "af3d95de",
   "metadata": {},
   "outputs": [],
   "source": [
    "import ipywidgets as widgets\n",
    "widg_caption_homo = widgets.Text(caption_homo)\n",
    "combined_w_homo=widgets.HBox([view_homo,widg_caption_homo])\n",
    "\n",
    "widg_caption_lumo = widgets.Text(caption_lumo)\n",
    "combined_w_lumo=widgets.HBox([view_lumo,widg_caption_lumo])\n"
   ]
  },
  {
   "cell_type": "code",
   "execution_count": null,
   "id": "9781e7e9",
   "metadata": {},
   "outputs": [],
   "source": [
    "combined_w_homo"
   ]
  },
  {
   "cell_type": "code",
   "execution_count": null,
   "id": "bd46ba01",
   "metadata": {},
   "outputs": [],
   "source": [
    "combined_w_lumo"
   ]
  },
  {
   "cell_type": "markdown",
   "id": "23cb8ce5",
   "metadata": {},
   "source": [
    "## Visualizing all orbitals together\n",
    "\n",
    "We will use a loop and arrays to caption all orbitals and plot a matrix of representations. "
   ]
  },
  {
   "cell_type": "code",
   "execution_count": null,
   "id": "42d948ee",
   "metadata": {},
   "outputs": [],
   "source": [
    "#\n",
    "# this is the part to create the visualizations and captions. Adapt nhomo and nlumo!!!\n",
    "# \n",
    "\n",
    "nhomo = 5\n",
    "nlumo = 5\n",
    "\n",
    "nfile = 1\n",
    "nhomonow = nhomo\n",
    "nlumonow = -1\n",
    "mydict = {}\n",
    "\n",
    "views =[]\n",
    "captions = []\n",
    "filenames = []\n",
    "\n",
    "for i in range (nhomo+nlumo):\n",
    "    if (nfile <= nhomo):\n",
    "        nhomonow = nhomonow-1\n",
    "        midfix = 'HOMO'\n",
    "        ind = nhomonow\n",
    "        strind = '-'+str(ind)\n",
    "    else:\n",
    "        nlumonow = nlumonow+1\n",
    "        midfix = 'LUMO'\n",
    "        ind = nlumonow\n",
    "        strind = '+'+str(ind)\n",
    "    if (ind == 0):\n",
    "        strind = ''\n",
    "    totstring = \"S0_\"+str(nfile)+'_'+midfix+strind+'.cube'\n",
    "    nfile = nfile+1\n",
    "    myfile = './cube-kit-pk' + str(my_pk) + '/cubes/' + totstring\n",
    "    atoms = read(myfile)\n",
    "    filenames.append(myfile)\n",
    "    print (nfile-2,myfile)\n",
    "    file = myfile\n",
    "    a=!head -2 {file} | tail -1\n",
    "    b = str(a)\n",
    "    ene=(b[4:13])\n",
    "    views.append(nv.NGLWidget())\n",
    "    captions.append(midfix+strind+\" E= \"+ene+\" eV\")\n",
    "    views[nfile-2].add_component(nv.ASEStructure(atoms))\n",
    "    c_2 = views[nfile-2].add_component(file)\n",
    "    c_2.clear()\n",
    "    c_2.add_surface(color='blue', isolevelType=\"value\", isolevel=-0.01, opacity=0.05)\n",
    "    c_3 = views[nfile-2].add_component(file)\n",
    "    c_3.clear()\n",
    "    c_3.add_surface(color='red', isolevelType=\"value\", isolevel=0.01, opacity=0.05)"
   ]
  },
  {
   "cell_type": "code",
   "execution_count": null,
   "id": "40fa8c7c",
   "metadata": {},
   "outputs": [],
   "source": [
    "#\n",
    "# And finally the visualization itself\n",
    "#\n",
    "\n",
    "import ipywidgets as widgets\n",
    "\n",
    "myarray = []\n",
    "for a in range(nhomo+nlumo):\n",
    "    myarray.append(views[a])\n",
    "    \n",
    "\n",
    "caption =[]\n",
    "\n",
    "for l in captions:\n",
    "    caption.append(widgets.Text(l))\n",
    "\n",
    "combined_w2 = []\n",
    "for i in range(len(caption)):\n",
    "    combined_w2.append(widgets.HBox([myarray[i],caption[i]]))\n",
    "\n",
    "\n",
    "combined_widgets = widgets.VBox(combined_w2)\n",
    "combined_widgets"
   ]
  },
  {
   "cell_type": "markdown",
   "id": "0f47b7c3",
   "metadata": {},
   "source": [
    "## Including the MATRIX VISUALIZATION OF ALL ORBITALS into a function\n",
    "\n",
    "The function allows to choose the isosurface, and the first orbital to visualize in the array, as well as the last one. Note that for larger molecules (benzene) you better choose a few orbitals at the time, not to \"kill\" your jupyter.\n",
    "\n"
   ]
  },
  {
   "cell_type": "code",
   "execution_count": null,
   "id": "04e0f4d0",
   "metadata": {},
   "outputs": [],
   "source": [
    "def show_orbitals(molname,pk,nhomo,nlumo,isosurf=0.02,nfirstview=0,nlastview=5000):\n",
    "    #\n",
    "    # Click \"cube creation kit\" on the Orbitals aiidalab page ; note the pk\n",
    "    #\n",
    "    my_pk = pk\n",
    "    !rm -Rf ./cube-kit-pk{my_pk}* ;\n",
    "    !cp /home/jovyan/apps/surfaces/tmp/cube-kit-pk{my_pk}.zip . ;\n",
    "    string = 'run_cube_from_wfn_'+molname+'.sh'\n",
    "    !unzip cube-kit-pk{my_pk}.zip ;\n",
    "    !cp {string} ./cube-kit-pk{my_pk} ;\n",
    "    !cd ./cube-kit-pk{my_pk} ; bash {string} ; ls cubes/*cube ;\n",
    "    #\n",
    "    # Create the visualization of the orbitals\n",
    "    #\n",
    "    nfile = 1\n",
    "    nhomonow = nhomo\n",
    "    nlumonow = -1\n",
    "    mydict = {}\n",
    "\n",
    "    views =[]\n",
    "    captions = []\n",
    "    filenames = []\n",
    "\n",
    "    for i in range (nhomo+nlumo):\n",
    "        if (nfile <= nhomo):\n",
    "            nhomonow = nhomonow-1\n",
    "            midfix = 'HOMO'\n",
    "            ind = nhomonow\n",
    "            strind = '-'+str(ind)\n",
    "        else:\n",
    "            nlumonow = nlumonow+1\n",
    "            midfix = 'LUMO'\n",
    "            ind = nlumonow\n",
    "            strind = '+'+str(ind)\n",
    "        if (ind == 0):\n",
    "            strind = ''\n",
    "        totstring = \"S0_\"+str(nfile)+'_'+midfix+strind+'.cube'\n",
    "        nfile = nfile+1\n",
    "        myfile = './cube-kit-pk' + str(my_pk) + '/cubes/' + totstring\n",
    "        atoms = read(myfile)\n",
    "        filenames.append(myfile)\n",
    "#        print (nfile-2,myfile)\n",
    "        file = myfile\n",
    "        a=!head -2 {file} | tail -1\n",
    "        b = str(a)\n",
    "        ene=(b[4:13])\n",
    "        views.append(nv.NGLWidget())\n",
    "        captions.append(midfix+strind+\" E= \"+ene+\" eV\")\n",
    "        views[nfile-2].add_component(nv.ASEStructure(atoms))\n",
    "        c_2 = views[nfile-2].add_component(file)\n",
    "        c_2.clear()\n",
    "        c_2.add_surface(color='blue', isolevelType=\"value\", isolevel=-isosurf, opacity=0.5)\n",
    "        c_3 = views[nfile-2].add_component(file)\n",
    "        c_3.clear()\n",
    "        c_3.add_surface(color='red', isolevelType=\"value\", isolevel=isosurf, opacity=0.5)\n",
    "    #\n",
    "    # Visualize the orbitals and energy\n",
    "    #\n",
    "    import ipywidgets as widgets\n",
    "    myarray = []\n",
    "    for a in range(nhomo+nlumo):\n",
    "        myarray.append(views[a])\n",
    "    caption =[]\n",
    "    for l in captions:\n",
    "        caption.append(widgets.Text(l))\n",
    "    combined_w2 = []\n",
    "    for i in range(len(caption)):\n",
    "        combined_w2.append(widgets.HBox([myarray[i],caption[i]]))\n",
    "    combined_widgets = widgets.VBox(combined_w2[nfirstview:nlastview])\n",
    "    return combined_widgets"
   ]
  },
  {
   "cell_type": "code",
   "execution_count": null,
   "id": "64f04e51",
   "metadata": {},
   "outputs": [],
   "source": [
    "#\n",
    "# In this way, the molecule can be visualized with a call to the function followed by a call of the molecule itself\n",
    "#\n",
    "acetylene = show_orbitals('acetylene',pk=133,nhomo=5,nlumo=5,nfirstview=0,nlastview=2,isosurf=0.01);\n"
   ]
  },
  {
   "cell_type": "code",
   "execution_count": null,
   "id": "5e0abcd9",
   "metadata": {},
   "outputs": [],
   "source": [
    "#\n",
    "# Visualizing the orbitals of acetylene:\n",
    "#\n",
    "acetylene"
   ]
  },
  {
   "cell_type": "code",
   "execution_count": null,
   "id": "b4a044e4",
   "metadata": {},
   "outputs": [],
   "source": [
    "#"
   ]
  },
  {
   "cell_type": "markdown",
   "id": "3c6f3eee",
   "metadata": {},
   "source": [
    "## Now you are ready to generalize the exercise to the following molecules:\n",
    "\n",
    "- H2\n",
    "- CH4 (Methane)\n",
    "- O2 (triplet state)\n",
    "- Hexatriene\n",
    "- Benzene \n",
    "\n",
    "### Note: for O2, you need a SPIN POLARIZED calculation (check the UKS option) with multiplicity 3 (also in the Orbital calculation)\n",
    "\n",
    "\n",
    "You will get two sets of cube files, work only with the \"S0\" ones (spin up). Also, use n_homo 7 and n_lumo 5\n",
    "\n",
    "### For Hexatriene vs. Benzene see the following [link](https://www.masterorganicchemistry.com/2017/05/05/the-pi-molecular-orbitals-of-benzene/)\n",
    "\n"
   ]
  },
  {
   "cell_type": "markdown",
   "id": "c7512c2b",
   "metadata": {},
   "source": [
    "# Assignments\n",
    "\n",
    "1. For each molecule, draw a molecular orbital table filling the orbitals up to the correct level.\n",
    "2. Discuss the difference between the H2 and O2 molecule.\n",
    "3. Discuss the differences between the CH4 and CH2  and C6H6  molecules (hybridisation?)\n",
    "4. Follow the discussion that you find in the link, and compare with your result. Discuss the differences you find between Hexatriene and Benzene\n",
    "5. Which molecule has the largest Band Gap?\n",
    "6. Apply a deformation to benzene and optimize again. Show the trajectory of the optimization. "
   ]
  }
 ],
 "metadata": {
  "kernelspec": {
   "display_name": "Python 3 (ipykernel)",
   "language": "python",
   "name": "python3"
  },
  "language_info": {
   "codemirror_mode": {
    "name": "ipython",
    "version": 3
   },
   "file_extension": ".py",
   "mimetype": "text/x-python",
   "name": "python",
   "nbconvert_exporter": "python",
   "pygments_lexer": "ipython3",
   "version": "3.9.13"
  }
 },
 "nbformat": 4,
 "nbformat_minor": 5
}
